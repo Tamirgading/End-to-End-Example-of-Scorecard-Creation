{
 "cells": [
  {
   "cell_type": "markdown",
   "metadata": {},
   "source": [
    "# End-to-End Example of Scorecard Creation"
   ]
  },
  {
   "cell_type": "markdown",
   "metadata": {},
   "source": [
    "Outline\n",
    "\n",
    "1. Review - Scorecard Development Process\n",
    "2. End-to-End Example of Scorecard Creation"
   ]
  },
  {
   "cell_type": "code",
   "execution_count": 1,
   "metadata": {},
   "outputs": [],
   "source": [
    "# Load data manipulation package\n",
    "import numpy as np\n",
    "import pandas as pd\n",
    "import itertools\n",
    "\n",
    "# Load data visualization package\n",
    "import matplotlib.pyplot as plt\n",
    "import seaborn as sns"
   ]
  },
  {
   "cell_type": "markdown",
   "metadata": {},
   "source": [
    "## <font color='white'>1. Review - Scorecard Development Process\n",
    "### Scorecard Development Process\n",
    "\n",
    "1. **Explore data.**\n",
    "   *  Simple statistics such as distributions of values, mean/median, etc.\n",
    "   * Checking data integrity.\n",
    "2. **Handle missing values and outliers.**\n",
    "   * Most financial industry data contains missing values, or values that do not make sense for a particular characteristic\n",
    "3. **Check correlation.**\n",
    "4. **Initial characteristic analysis.**\n",
    "   * To assess the strength of each characteristic individually as a predictor of performance.\n",
    "5. **Statistical Measures.**\n",
    "   * Weight of Evidence (WoE) — measures the strength of each attribute.\n",
    "   * Information Value (IV) — measures the total strength of the characteristic.\n",
    "6. **Check logical trend.**\n",
    "   * Attribute strengths must also be in a logical order, and make operational sense.\n",
    "7. **Check business/operational considerations.**\n",
    "   * The consideration is business or operational relevance. e.g. postal codes.\n",
    "8. **Design scorecards.**\n",
    "   * Preliminary scorecard\n",
    "   * Reject inference — To make educated guesses about how rejected applicants would have performed if accepted.\n",
    "   * Final scorecard production\n",
    "9. **Choose a scorecard — using a combination of statistical and business measures.**\n",
    "   * For example: misclassification, scorecard strength (KS, Chi-square, AIC, AUC), etc."
   ]
  },
  {
   "cell_type": "markdown",
   "metadata": {},
   "source": [
    "### Example of Scorecard Creation\n",
    "\n",
    "This is an end-to-end example to show how a scorecard is created.\n",
    "This is a highly simplified one, designed to show how the final scores are calculated.\n",
    "\n",
    "## 1. Load Data\n",
    "The sample we will use in this example is a fictive dataset from [here](https://www.kaggle.com/datasets/laotse/credit-risk-dataset).\n",
    "\n",
    "The sample consist of some demographic, bureau, and financial information.\n",
    "\n",
    "Note that we are not defining the default or bad status from our dataset here. Instead, we already have the binary response variable:\n",
    "\n",
    "- `loan_status`\n",
    "  - `loan_status = 0` for non default loan.\n",
    "  - `loan_status = 1` for default loan.\n",
    "\n",
    "The potential characteristics for predicting the response variable are:\n",
    "\n",
    "1. `person age`\n",
    "2. `person_income` (the annual income of the debtor)\n",
    "3. `person_home_ownership`\n",
    "    - `RENT`\n",
    "    - `MORTGAGE`\n",
    "    - `OWN`\n",
    "    - `OTHER`\n",
    "4. `person_emp_length` (the employment length of debtor in years)\n",
    "5. `loan_intent` (the purpose of loan)\n",
    "    - `EDUCATION`\n",
    "    - `MEDICAL`\n",
    "    - `VENTURE`\n",
    "    - `PERSONAL`\n",
    "    - `DEBTCONSOLIDATION`\n",
    "6. `loan_grade`\n",
    "7.  `loan_amnt`\t(loan amount)\n",
    "8. `loan_int_rate`\t(interest rate)\n",
    "10. `loan_percent_income`\t(percent loan of income)\n",
    "11. `cb_person_default_on_file`\t(historical default)\n",
    "    - `0` : the debtor does not have any history of defaults.\n",
    "    - `1` : the debtor has a history of defaults on their credit file.\n",
    "12. `cb_preson_cred_hist_length` (credit history length)"
   ]
  },
  {
   "cell_type": "code",
   "execution_count": 2,
   "metadata": {},
   "outputs": [
    {
     "data": {
      "text/html": [
       "<div>\n",
       "<style scoped>\n",
       "    .dataframe tbody tr th:only-of-type {\n",
       "        vertical-align: middle;\n",
       "    }\n",
       "\n",
       "    .dataframe tbody tr th {\n",
       "        vertical-align: top;\n",
       "    }\n",
       "\n",
       "    .dataframe thead th {\n",
       "        text-align: right;\n",
       "    }\n",
       "</style>\n",
       "<table border=\"1\" class=\"dataframe\">\n",
       "  <thead>\n",
       "    <tr style=\"text-align: right;\">\n",
       "      <th></th>\n",
       "      <th>0</th>\n",
       "      <th>1</th>\n",
       "      <th>2</th>\n",
       "      <th>3</th>\n",
       "      <th>4</th>\n",
       "    </tr>\n",
       "  </thead>\n",
       "  <tbody>\n",
       "    <tr>\n",
       "      <th>person_age</th>\n",
       "      <td>22</td>\n",
       "      <td>21</td>\n",
       "      <td>25</td>\n",
       "      <td>23</td>\n",
       "      <td>24</td>\n",
       "    </tr>\n",
       "    <tr>\n",
       "      <th>person_income</th>\n",
       "      <td>59000</td>\n",
       "      <td>9600</td>\n",
       "      <td>9600</td>\n",
       "      <td>65500</td>\n",
       "      <td>54400</td>\n",
       "    </tr>\n",
       "    <tr>\n",
       "      <th>person_home_ownership</th>\n",
       "      <td>RENT</td>\n",
       "      <td>OWN</td>\n",
       "      <td>MORTGAGE</td>\n",
       "      <td>RENT</td>\n",
       "      <td>RENT</td>\n",
       "    </tr>\n",
       "    <tr>\n",
       "      <th>person_emp_length</th>\n",
       "      <td>123.0</td>\n",
       "      <td>5.0</td>\n",
       "      <td>1.0</td>\n",
       "      <td>4.0</td>\n",
       "      <td>8.0</td>\n",
       "    </tr>\n",
       "    <tr>\n",
       "      <th>loan_intent</th>\n",
       "      <td>PERSONAL</td>\n",
       "      <td>EDUCATION</td>\n",
       "      <td>MEDICAL</td>\n",
       "      <td>MEDICAL</td>\n",
       "      <td>MEDICAL</td>\n",
       "    </tr>\n",
       "    <tr>\n",
       "      <th>loan_grade</th>\n",
       "      <td>D</td>\n",
       "      <td>B</td>\n",
       "      <td>C</td>\n",
       "      <td>C</td>\n",
       "      <td>C</td>\n",
       "    </tr>\n",
       "    <tr>\n",
       "      <th>loan_amnt</th>\n",
       "      <td>35000</td>\n",
       "      <td>1000</td>\n",
       "      <td>5500</td>\n",
       "      <td>35000</td>\n",
       "      <td>35000</td>\n",
       "    </tr>\n",
       "    <tr>\n",
       "      <th>loan_int_rate</th>\n",
       "      <td>16.02</td>\n",
       "      <td>11.14</td>\n",
       "      <td>12.87</td>\n",
       "      <td>15.23</td>\n",
       "      <td>14.27</td>\n",
       "    </tr>\n",
       "    <tr>\n",
       "      <th>loan_status</th>\n",
       "      <td>1</td>\n",
       "      <td>0</td>\n",
       "      <td>1</td>\n",
       "      <td>1</td>\n",
       "      <td>1</td>\n",
       "    </tr>\n",
       "    <tr>\n",
       "      <th>loan_percent_income</th>\n",
       "      <td>0.59</td>\n",
       "      <td>0.1</td>\n",
       "      <td>0.57</td>\n",
       "      <td>0.53</td>\n",
       "      <td>0.55</td>\n",
       "    </tr>\n",
       "    <tr>\n",
       "      <th>cb_person_default_on_file</th>\n",
       "      <td>Y</td>\n",
       "      <td>N</td>\n",
       "      <td>N</td>\n",
       "      <td>N</td>\n",
       "      <td>Y</td>\n",
       "    </tr>\n",
       "    <tr>\n",
       "      <th>cb_person_cred_hist_length</th>\n",
       "      <td>3</td>\n",
       "      <td>2</td>\n",
       "      <td>3</td>\n",
       "      <td>2</td>\n",
       "      <td>4</td>\n",
       "    </tr>\n",
       "  </tbody>\n",
       "</table>\n",
       "</div>"
      ],
      "text/plain": [
       "                                   0          1         2        3        4\n",
       "person_age                        22         21        25       23       24\n",
       "person_income                  59000       9600      9600    65500    54400\n",
       "person_home_ownership           RENT        OWN  MORTGAGE     RENT     RENT\n",
       "person_emp_length              123.0        5.0       1.0      4.0      8.0\n",
       "loan_intent                 PERSONAL  EDUCATION   MEDICAL  MEDICAL  MEDICAL\n",
       "loan_grade                         D          B         C        C        C\n",
       "loan_amnt                      35000       1000      5500    35000    35000\n",
       "loan_int_rate                  16.02      11.14     12.87    15.23    14.27\n",
       "loan_status                        1          0         1        1        1\n",
       "loan_percent_income             0.59        0.1      0.57     0.53     0.55\n",
       "cb_person_default_on_file          Y          N         N        N        Y\n",
       "cb_person_cred_hist_length         3          2         3        2        4"
      ]
     },
     "execution_count": 2,
     "metadata": {},
     "output_type": "execute_result"
    }
   ],
   "source": [
    "# Import dataset from csv file\n",
    "data = pd.read_csv('credit_risk_dataset.csv')\n",
    "\n",
    "# Table check\n",
    "data.head().T"
   ]
  },
  {
   "cell_type": "markdown",
   "metadata": {},
   "source": [
    "Check the data shape.\n",
    "- How many variables are there?"
   ]
  },
  {
   "cell_type": "code",
   "execution_count": 3,
   "metadata": {},
   "outputs": [
    {
     "data": {
      "text/plain": [
       "(32581, 12)"
      ]
     },
     "execution_count": 3,
     "metadata": {},
     "output_type": "execute_result"
    }
   ],
   "source": [
    "# Check the data shape\n",
    "data.shape"
   ]
  },
  {
   "cell_type": "markdown",
   "metadata": {},
   "source": [
    "Our sample contains 12 variables from 32,581 credit records.\n",
    "- 1 response variable, `loan_status`,\n",
    "- and 11 potential characteristics/predictors.\n",
    "\n",
    "Please note that in this example, we will use only 3 predictors, for the sake of simplicity.\n",
    "- Predictor 1: `person_age`\n",
    "- Predictor 4: `person_emp_length`\n",
    "- Predictor 11: `cb_person_default_on_file`"
   ]
  },
  {
   "cell_type": "code",
   "execution_count": 4,
   "metadata": {},
   "outputs": [
    {
     "data": {
      "text/html": [
       "<div>\n",
       "<style scoped>\n",
       "    .dataframe tbody tr th:only-of-type {\n",
       "        vertical-align: middle;\n",
       "    }\n",
       "\n",
       "    .dataframe tbody tr th {\n",
       "        vertical-align: top;\n",
       "    }\n",
       "\n",
       "    .dataframe thead th {\n",
       "        text-align: right;\n",
       "    }\n",
       "</style>\n",
       "<table border=\"1\" class=\"dataframe\">\n",
       "  <thead>\n",
       "    <tr style=\"text-align: right;\">\n",
       "      <th></th>\n",
       "      <th>person_age</th>\n",
       "      <th>person_emp_length</th>\n",
       "      <th>cb_person_default_on_file</th>\n",
       "      <th>loan_status</th>\n",
       "    </tr>\n",
       "  </thead>\n",
       "  <tbody>\n",
       "    <tr>\n",
       "      <th>0</th>\n",
       "      <td>22</td>\n",
       "      <td>123.0</td>\n",
       "      <td>Y</td>\n",
       "      <td>1</td>\n",
       "    </tr>\n",
       "    <tr>\n",
       "      <th>1</th>\n",
       "      <td>21</td>\n",
       "      <td>5.0</td>\n",
       "      <td>N</td>\n",
       "      <td>0</td>\n",
       "    </tr>\n",
       "    <tr>\n",
       "      <th>2</th>\n",
       "      <td>25</td>\n",
       "      <td>1.0</td>\n",
       "      <td>N</td>\n",
       "      <td>1</td>\n",
       "    </tr>\n",
       "    <tr>\n",
       "      <th>3</th>\n",
       "      <td>23</td>\n",
       "      <td>4.0</td>\n",
       "      <td>N</td>\n",
       "      <td>1</td>\n",
       "    </tr>\n",
       "    <tr>\n",
       "      <th>4</th>\n",
       "      <td>24</td>\n",
       "      <td>8.0</td>\n",
       "      <td>Y</td>\n",
       "      <td>1</td>\n",
       "    </tr>\n",
       "    <tr>\n",
       "      <th>...</th>\n",
       "      <td>...</td>\n",
       "      <td>...</td>\n",
       "      <td>...</td>\n",
       "      <td>...</td>\n",
       "    </tr>\n",
       "    <tr>\n",
       "      <th>32576</th>\n",
       "      <td>57</td>\n",
       "      <td>1.0</td>\n",
       "      <td>N</td>\n",
       "      <td>0</td>\n",
       "    </tr>\n",
       "    <tr>\n",
       "      <th>32577</th>\n",
       "      <td>54</td>\n",
       "      <td>4.0</td>\n",
       "      <td>N</td>\n",
       "      <td>0</td>\n",
       "    </tr>\n",
       "    <tr>\n",
       "      <th>32578</th>\n",
       "      <td>65</td>\n",
       "      <td>3.0</td>\n",
       "      <td>N</td>\n",
       "      <td>1</td>\n",
       "    </tr>\n",
       "    <tr>\n",
       "      <th>32579</th>\n",
       "      <td>56</td>\n",
       "      <td>5.0</td>\n",
       "      <td>N</td>\n",
       "      <td>0</td>\n",
       "    </tr>\n",
       "    <tr>\n",
       "      <th>32580</th>\n",
       "      <td>66</td>\n",
       "      <td>2.0</td>\n",
       "      <td>N</td>\n",
       "      <td>0</td>\n",
       "    </tr>\n",
       "  </tbody>\n",
       "</table>\n",
       "<p>32581 rows × 4 columns</p>\n",
       "</div>"
      ],
      "text/plain": [
       "       person_age  person_emp_length cb_person_default_on_file  loan_status\n",
       "0              22              123.0                         Y            1\n",
       "1              21                5.0                         N            0\n",
       "2              25                1.0                         N            1\n",
       "3              23                4.0                         N            1\n",
       "4              24                8.0                         Y            1\n",
       "...           ...                ...                       ...          ...\n",
       "32576          57                1.0                         N            0\n",
       "32577          54                4.0                         N            0\n",
       "32578          65                3.0                         N            1\n",
       "32579          56                5.0                         N            0\n",
       "32580          66                2.0                         N            0\n",
       "\n",
       "[32581 rows x 4 columns]"
      ]
     },
     "execution_count": 4,
     "metadata": {},
     "output_type": "execute_result"
    }
   ],
   "source": [
    "data0 = data.copy()\n",
    "\n",
    "# Use only 3 predictors and 1 response variable\n",
    "data = data[['person_age',\n",
    "             'person_emp_length',\n",
    "             'cb_person_default_on_file',\n",
    "             'loan_status']]\n",
    "data"
   ]
  },
  {
   "cell_type": "markdown",
   "metadata": {},
   "source": [
    "Before modeling, make sure you split the data first for model validation.\n",
    "\n",
    "In the classification case, check the proportion of response variable first to decide the splitting strategy."
   ]
  },
  {
   "cell_type": "code",
   "execution_count": 5,
   "metadata": {},
   "outputs": [
    {
     "data": {
      "text/plain": [
       "0    0.781836\n",
       "1    0.218164\n",
       "Name: loan_status, dtype: float64"
      ]
     },
     "execution_count": 5,
     "metadata": {},
     "output_type": "execute_result"
    }
   ],
   "source": [
    "# Define response variable\n",
    "response_variable = 'loan_status'\n",
    "\n",
    "# Check the proportion of response variable\n",
    "data[response_variable].value_counts(normalize = True)"
   ]
  },
  {
   "cell_type": "markdown",
   "metadata": {},
   "source": [
    "The proportion of the response variable, `loan status`, is not quite balanced (in a ratio of 78:22).\n",
    "\n",
    "To get the same ratio in training and testing set, define a stratified splitting based on the response variable, `loan_status`."
   ]
  },
  {
   "cell_type": "markdown",
   "metadata": {},
   "source": [
    "## **2. Sample Splitting**\n",
    "First, define the predictors (X) and the response (y)."
   ]
  },
  {
   "cell_type": "code",
   "execution_count": 6,
   "metadata": {},
   "outputs": [
    {
     "name": "stdout",
     "output_type": "stream",
     "text": [
      "y shape : (32581,)\n",
      "X shape : (32581, 3)\n"
     ]
    }
   ],
   "source": [
    "# Split response and predictors\n",
    "y = data[response_variable]\n",
    "X = data.drop(columns = [response_variable],\n",
    "              axis = 1)\n",
    "\n",
    "# Validate the splitting\n",
    "print('y shape :', y.shape)\n",
    "print('X shape :', X.shape)"
   ]
  },
  {
   "cell_type": "code",
   "execution_count": 7,
   "metadata": {},
   "outputs": [
    {
     "name": "stdout",
     "output_type": "stream",
     "text": [
      "X train shape : (22806, 3)\n",
      "y train shape : (22806,)\n",
      "X test shape  : (9775, 3)\n",
      "y test shape  : (9775,)\n"
     ]
    }
   ],
   "source": [
    "from sklearn.model_selection import train_test_split\n",
    "\n",
    "# Split the data\n",
    "X_train, X_test, y_train, y_test = train_test_split(X,\n",
    "                                                    y,\n",
    "                                                    stratify = y,\n",
    "                                                    test_size = 0.3,\n",
    "                                                    random_state = 42)\n",
    "\n",
    "# Validate splitting\n",
    "print('X train shape :', X_train.shape)\n",
    "print('y train shape :', y_train.shape)\n",
    "print('X test shape  :', X_test.shape)\n",
    "print('y test shape  :', y_test.shape)"
   ]
  },
  {
   "cell_type": "markdown",
   "metadata": {},
   "source": [
    "Check the proportion of response y in each training and testing set."
   ]
  },
  {
   "cell_type": "code",
   "execution_count": 8,
   "metadata": {},
   "outputs": [
    {
     "data": {
      "text/plain": [
       "0    0.781856\n",
       "1    0.218144\n",
       "Name: loan_status, dtype: float64"
      ]
     },
     "execution_count": 8,
     "metadata": {},
     "output_type": "execute_result"
    }
   ],
   "source": [
    "y_train.value_counts(normalize = True)"
   ]
  },
  {
   "cell_type": "code",
   "execution_count": 9,
   "metadata": {},
   "outputs": [
    {
     "data": {
      "text/plain": [
       "0    0.78179\n",
       "1    0.21821\n",
       "Name: loan_status, dtype: float64"
      ]
     },
     "execution_count": 9,
     "metadata": {},
     "output_type": "execute_result"
    }
   ],
   "source": [
    "y_test.value_counts(normalize = True)"
   ]
  },
  {
   "cell_type": "markdown",
   "metadata": {},
   "source": [
    "## **3. Exploratory Data Analysis**\n",
    "- To make a model that predicts well on unseen data, we must prevent leakage of test set information.\n",
    "- Thus, we only explore on **training set**."
   ]
  },
  {
   "cell_type": "code",
   "execution_count": 10,
   "metadata": {},
   "outputs": [
    {
     "name": "stdout",
     "output_type": "stream",
     "text": [
      "Train data shape: (22806, 4)\n"
     ]
    },
    {
     "data": {
      "text/html": [
       "<div>\n",
       "<style scoped>\n",
       "    .dataframe tbody tr th:only-of-type {\n",
       "        vertical-align: middle;\n",
       "    }\n",
       "\n",
       "    .dataframe tbody tr th {\n",
       "        vertical-align: top;\n",
       "    }\n",
       "\n",
       "    .dataframe thead th {\n",
       "        text-align: right;\n",
       "    }\n",
       "</style>\n",
       "<table border=\"1\" class=\"dataframe\">\n",
       "  <thead>\n",
       "    <tr style=\"text-align: right;\">\n",
       "      <th></th>\n",
       "      <th>person_age</th>\n",
       "      <th>person_emp_length</th>\n",
       "      <th>cb_person_default_on_file</th>\n",
       "      <th>loan_status</th>\n",
       "    </tr>\n",
       "  </thead>\n",
       "  <tbody>\n",
       "    <tr>\n",
       "      <th>11491</th>\n",
       "      <td>26</td>\n",
       "      <td>1.0</td>\n",
       "      <td>N</td>\n",
       "      <td>0</td>\n",
       "    </tr>\n",
       "    <tr>\n",
       "      <th>3890</th>\n",
       "      <td>23</td>\n",
       "      <td>3.0</td>\n",
       "      <td>N</td>\n",
       "      <td>0</td>\n",
       "    </tr>\n",
       "    <tr>\n",
       "      <th>17344</th>\n",
       "      <td>24</td>\n",
       "      <td>1.0</td>\n",
       "      <td>N</td>\n",
       "      <td>1</td>\n",
       "    </tr>\n",
       "    <tr>\n",
       "      <th>13023</th>\n",
       "      <td>24</td>\n",
       "      <td>1.0</td>\n",
       "      <td>N</td>\n",
       "      <td>0</td>\n",
       "    </tr>\n",
       "    <tr>\n",
       "      <th>29565</th>\n",
       "      <td>42</td>\n",
       "      <td>4.0</td>\n",
       "      <td>N</td>\n",
       "      <td>1</td>\n",
       "    </tr>\n",
       "  </tbody>\n",
       "</table>\n",
       "</div>"
      ],
      "text/plain": [
       "       person_age  person_emp_length cb_person_default_on_file  loan_status\n",
       "11491          26                1.0                         N            0\n",
       "3890           23                3.0                         N            0\n",
       "17344          24                1.0                         N            1\n",
       "13023          24                1.0                         N            0\n",
       "29565          42                4.0                         N            1"
      ]
     },
     "execution_count": 10,
     "metadata": {},
     "output_type": "execute_result"
    }
   ],
   "source": [
    "# Concatenate X_train and y_train as data_train\n",
    "data_train = pd.concat((X_train, y_train),\n",
    "                       axis = 1)\n",
    "\n",
    "# Validate data_train\n",
    "print('Train data shape:', data_train.shape)\n",
    "data_train.head()"
   ]
  },
  {
   "cell_type": "markdown",
   "metadata": {},
   "source": [
    "What do we do in EDA?\n",
    "- Check data integrity.\n",
    "- Check for any insight in the data: distribution, proportion, outliers, missing values, etc.\n",
    "- Make a plan for data pre-processing."
   ]
  },
  {
   "cell_type": "markdown",
   "metadata": {},
   "source": [
    "### Check for Missing Values\n",
    "\n",
    "---"
   ]
  },
  {
   "cell_type": "code",
   "execution_count": 11,
   "metadata": {},
   "outputs": [
    {
     "data": {
      "text/plain": [
       "person_age                     0\n",
       "person_emp_length            639\n",
       "cb_person_default_on_file      0\n",
       "loan_status                    0\n",
       "dtype: int64"
      ]
     },
     "execution_count": 11,
     "metadata": {},
     "output_type": "execute_result"
    }
   ],
   "source": [
    "# Check for missing values\n",
    "data_train.isna().sum()"
   ]
  },
  {
   "cell_type": "code",
   "execution_count": 12,
   "metadata": {},
   "outputs": [
    {
     "name": "stdout",
     "output_type": "stream",
     "text": [
      "<class 'pandas.core.frame.DataFrame'>\n",
      "Int64Index: 22806 entries, 11491 to 10456\n",
      "Data columns (total 4 columns):\n",
      " #   Column                     Non-Null Count  Dtype  \n",
      "---  ------                     --------------  -----  \n",
      " 0   person_age                 22806 non-null  int64  \n",
      " 1   person_emp_length          22167 non-null  float64\n",
      " 2   cb_person_default_on_file  22806 non-null  object \n",
      " 3   loan_status                22806 non-null  int64  \n",
      "dtypes: float64(1), int64(2), object(1)\n",
      "memory usage: 890.9+ KB\n"
     ]
    }
   ],
   "source": [
    "# Check for data type\n",
    "data_train.info()"
   ]
  },
  {
   "cell_type": "markdown",
   "metadata": {},
   "source": [
    "**Summary**\n",
    "- There are missing values in `person_emp_length`, a numerical/float variable.\n",
    "- We need to find how to handle the missing values by exploring this variable."
   ]
  },
  {
   "cell_type": "markdown",
   "metadata": {},
   "source": [
    "### Predictor 1: person_age\n",
    "\n",
    "---"
   ]
  },
  {
   "cell_type": "code",
   "execution_count": 13,
   "metadata": {},
   "outputs": [
    {
     "data": {
      "text/plain": [
       "count    22806.000000\n",
       "mean        27.722880\n",
       "std          6.336638\n",
       "min         20.000000\n",
       "25%         23.000000\n",
       "50%         26.000000\n",
       "75%         30.000000\n",
       "max        144.000000\n",
       "Name: person_age, dtype: float64"
      ]
     },
     "execution_count": 13,
     "metadata": {},
     "output_type": "execute_result"
    }
   ],
   "source": [
    "# Descriptive statistics of 'person_age'\n",
    "data_train['person_age'].describe()"
   ]
  },
  {
   "cell_type": "code",
   "execution_count": 14,
   "metadata": {},
   "outputs": [
    {
     "data": {
      "text/plain": [
       "<AxesSubplot:xlabel='person_age', ylabel='Count'>"
      ]
     },
     "execution_count": 14,
     "metadata": {},
     "output_type": "execute_result"
    },
    {
     "data": {
      "image/png": "[encoded data removed]",
      "text/plain": [
       "<Figure size 640x480 with 1 Axes>"
      ]
     },
     "metadata": {},
     "output_type": "display_data"
    }
   ],
   "source": [
    "# Distribution plot of person_age\n",
    "sns.histplot(data = data_train,\n",
    "             x = 'person_age')"
   ]
  },
  {
   "cell_type": "code",
   "execution_count": 15,
   "metadata": {},
   "outputs": [
    {
     "data": {
      "text/html": [
       "<div>\n",
       "<style scoped>\n",
       "    .dataframe tbody tr th:only-of-type {\n",
       "        vertical-align: middle;\n",
       "    }\n",
       "\n",
       "    .dataframe tbody tr th {\n",
       "        vertical-align: top;\n",
       "    }\n",
       "\n",
       "    .dataframe thead th {\n",
       "        text-align: right;\n",
       "    }\n",
       "</style>\n",
       "<table border=\"1\" class=\"dataframe\">\n",
       "  <thead>\n",
       "    <tr style=\"text-align: right;\">\n",
       "      <th></th>\n",
       "      <th>count</th>\n",
       "      <th>mean</th>\n",
       "      <th>std</th>\n",
       "      <th>min</th>\n",
       "      <th>25%</th>\n",
       "      <th>50%</th>\n",
       "      <th>75%</th>\n",
       "      <th>max</th>\n",
       "    </tr>\n",
       "    <tr>\n",
       "      <th>loan_status</th>\n",
       "      <th></th>\n",
       "      <th></th>\n",
       "      <th></th>\n",
       "      <th></th>\n",
       "      <th></th>\n",
       "      <th></th>\n",
       "      <th></th>\n",
       "      <th></th>\n",
       "    </tr>\n",
       "  </thead>\n",
       "  <tbody>\n",
       "    <tr>\n",
       "      <th>0.0</th>\n",
       "      <td>17831.0</td>\n",
       "      <td>27.784981</td>\n",
       "      <td>6.337859</td>\n",
       "      <td>20.0</td>\n",
       "      <td>23.0</td>\n",
       "      <td>26.0</td>\n",
       "      <td>30.0</td>\n",
       "      <td>144.0</td>\n",
       "    </tr>\n",
       "    <tr>\n",
       "      <th>1.0</th>\n",
       "      <td>4975.0</td>\n",
       "      <td>27.500302</td>\n",
       "      <td>6.327888</td>\n",
       "      <td>20.0</td>\n",
       "      <td>23.0</td>\n",
       "      <td>26.0</td>\n",
       "      <td>30.0</td>\n",
       "      <td>70.0</td>\n",
       "    </tr>\n",
       "  </tbody>\n",
       "</table>\n",
       "</div>"
      ],
      "text/plain": [
       "               count       mean       std   min   25%   50%   75%    max\n",
       "loan_status                                                             \n",
       "0.0          17831.0  27.784981  6.337859  20.0  23.0  26.0  30.0  144.0\n",
       "1.0           4975.0  27.500302  6.327888  20.0  23.0  26.0  30.0   70.0"
      ]
     },
     "execution_count": 15,
     "metadata": {},
     "output_type": "execute_result"
    }
   ],
   "source": [
    "# Descriptive of person_age by response loan_status\n",
    "data['person_age'].groupby(data_train[response_variable]).describe()"
   ]
  },
  {
   "cell_type": "code",
   "execution_count": 16,
   "metadata": {},
   "outputs": [
    {
     "data": {
      "text/plain": [
       "<AxesSubplot:xlabel='loan_status', ylabel='person_age'>"
      ]
     },
     "execution_count": 16,
     "metadata": {},
     "output_type": "execute_result"
    },
    {
     "data": {
      "image/png": "[encoded data removed]",
      "text/plain": [
       "<Figure size 640x480 with 1 Axes>"
      ]
     },
     "metadata": {},
     "output_type": "display_data"
    }
   ],
   "source": [
    "# Boxplot of person_age by response loan_status\n",
    "sns.boxplot(data = data_train,\n",
    "            x = response_variable,\n",
    "            y = 'person_age')"
   ]
  },
  {
   "cell_type": "code",
   "execution_count": 17,
   "metadata": {},
   "outputs": [
    {
     "data": {
      "text/plain": [
       "<seaborn.axisgrid.FacetGrid at 0x20c641abdc0>"
      ]
     },
     "execution_count": 17,
     "metadata": {},
     "output_type": "execute_result"
    },
    {
     "data": {
      "image/png": "[encoded data removed]",
      "text/plain": [
       "<Figure size 590.486x500 with 1 Axes>"
      ]
     },
     "metadata": {},
     "output_type": "display_data"
    }
   ],
   "source": [
    "# Distribution plot of person_age by response loan_status\n",
    "sns.displot(data = data_train,\n",
    "            x = 'person_age',\n",
    "            hue = response_variable,\n",
    "            kind = 'kde')"
   ]
  },
  {
   "cell_type": "markdown",
   "metadata": {},
   "source": [
    "We may assume there are outliers for the age over 80 years old.\n",
    "\n",
    "But we can check the maximum threshold for outliers from the IQR method below."
   ]
  },
  {
   "cell_type": "code",
   "execution_count": 19,
   "metadata": {},
   "outputs": [
    {
     "data": {
      "text/plain": [
       "(12.5, 40.5)"
      ]
     },
     "execution_count": 19,
     "metadata": {},
     "output_type": "execute_result"
    }
   ],
   "source": [
    "# Calculate Q1 and Q3\n",
    "Q1_person_age = np.percentile(data_train['person_age'], 25)\n",
    "Q3_person_age = np.percentile(data_train['person_age'], 75)\n",
    "\n",
    "# Calculate IQR\n",
    "IQR_person_age = Q3_person_age - Q1_person_age\n",
    "\n",
    "# Calculate the thresholds\n",
    "min_person_age = Q1_person_age - 1.5*IQR_person_age\n",
    "max_person_age = Q3_person_age + 1.5*IQR_person_age\n",
    "\n",
    "min_person_age, max_person_age"
   ]
  },
  {
   "cell_type": "markdown",
   "metadata": {},
   "source": [
    "From the IQR, debtors younger than 12.5 years and older than 40.5 years are outliers.\n",
    "\n",
    "Assumptions:\n",
    "- The age regulation for the applicant is a minimum of 21 years old.\n",
    "- Applicants older than 40.5 to 55 may still be in productive age.\n",
    "\n",
    "Therefore, we can define outliers from `person_age` variable with the following condition."
   ]
  },
  {
   "cell_type": "code",
   "execution_count": 20,
   "metadata": {},
   "outputs": [
    {
     "data": {
      "text/plain": [
       "114"
      ]
     },
     "execution_count": 20,
     "metadata": {},
     "output_type": "execute_result"
    }
   ],
   "source": [
    "# Define minimum and maximum age with adjustment\n",
    "adj_min_person_age = 21\n",
    "adj_max_person_age = 55\n",
    "\n",
    "# Define outliers\n",
    "outliers_person_age_min = data_train['person_age'] < 21\n",
    "outliers_person_age_max = data_train['person_age'] > 55\n",
    "\n",
    "outliers_person_age = np.where(outliers_person_age_min | outliers_person_age_max)[0]\n",
    "\n",
    "# Check the number of outliers in data_train\n",
    "len(outliers_person_age)"
   ]
  },
  {
   "cell_type": "code",
   "execution_count": 21,
   "metadata": {},
   "outputs": [
    {
     "data": {
      "text/plain": [
       "0"
      ]
     },
     "execution_count": 21,
     "metadata": {},
     "output_type": "execute_result"
    }
   ],
   "source": [
    "# Check missing values\n",
    "data_train['person_age'].isna().sum()"
   ]
  },
  {
   "cell_type": "markdown",
   "metadata": {},
   "source": [
    "**Summary**\n",
    "\n",
    "- There seems to be no age difference between the default and non-default groups.\n",
    "- Potential outliers over 80 years old come from the non-default group.\n",
    "- The youngest debtor is 20 years old.\n",
    "- Three-quarters of the debtors are up to 30 years old. The rest are over 30 years old.\n",
    "\n",
    "**Business Insight:**\n",
    "- Check the regulations to see whether we will accept applicants aged 20 years.\n",
    "- If not, are debtors aged 20 still included in the sample?\n",
    "- Check the maximum age limit for the applicant and adjust it to the tenor.\n",
    "\n",
    "**Pre-processing Plan:**\n",
    "- There are no missing values.\n",
    "- The outliers will be grouped."
   ]
  },
  {
   "cell_type": "markdown",
   "metadata": {},
   "source": [
    "### Predictor 4: person_emp_length\n",
    "\n",
    "---"
   ]
  },
  {
   "cell_type": "code",
   "execution_count": 23,
   "metadata": {},
   "outputs": [
    {
     "data": {
      "text/plain": [
       "count    22167.000000\n",
       "mean         4.796905\n",
       "std          4.120061\n",
       "min          0.000000\n",
       "25%          2.000000\n",
       "50%          4.000000\n",
       "75%          7.000000\n",
       "max        123.000000\n",
       "Name: person_emp_length, dtype: float64"
      ]
     },
     "execution_count": 23,
     "metadata": {},
     "output_type": "execute_result"
    }
   ],
   "source": [
    "# Descriptive statistics of 'person_emp_length'\n",
    "data_train['person_emp_length'].describe()"
   ]
  },
  {
   "cell_type": "code",
   "execution_count": 24,
   "metadata": {},
   "outputs": [
    {
     "data": {
      "text/plain": [
       "<AxesSubplot:xlabel='person_emp_length', ylabel='Count'>"
      ]
     },
     "execution_count": 24,
     "metadata": {},
     "output_type": "execute_result"
    },
    {
     "data": {
      "image/png": "[encoded data removed]",
      "text/plain": [
       "<Figure size 640x480 with 1 Axes>"
      ]
     },
     "metadata": {},
     "output_type": "display_data"
    }
   ],
   "source": [
    "# Distribution plot of person_emp_length\n",
    "sns.histplot(data = data_train,\n",
    "             x = 'person_emp_length')"
   ]
  },
  {
   "cell_type": "code",
   "execution_count": 25,
   "metadata": {},
   "outputs": [
    {
     "data": {
      "text/html": [
       "<div>\n",
       "<style scoped>\n",
       "    .dataframe tbody tr th:only-of-type {\n",
       "        vertical-align: middle;\n",
       "    }\n",
       "\n",
       "    .dataframe tbody tr th {\n",
       "        vertical-align: top;\n",
       "    }\n",
       "\n",
       "    .dataframe thead th {\n",
       "        text-align: right;\n",
       "    }\n",
       "</style>\n",
       "<table border=\"1\" class=\"dataframe\">\n",
       "  <thead>\n",
       "    <tr style=\"text-align: right;\">\n",
       "      <th></th>\n",
       "      <th>count</th>\n",
       "      <th>mean</th>\n",
       "      <th>std</th>\n",
       "      <th>min</th>\n",
       "      <th>25%</th>\n",
       "      <th>50%</th>\n",
       "      <th>75%</th>\n",
       "      <th>max</th>\n",
       "    </tr>\n",
       "    <tr>\n",
       "      <th>loan_status</th>\n",
       "      <th></th>\n",
       "      <th></th>\n",
       "      <th></th>\n",
       "      <th></th>\n",
       "      <th></th>\n",
       "      <th></th>\n",
       "      <th></th>\n",
       "      <th></th>\n",
       "    </tr>\n",
       "  </thead>\n",
       "  <tbody>\n",
       "    <tr>\n",
       "      <th>0</th>\n",
       "      <td>17388.0</td>\n",
       "      <td>4.978951</td>\n",
       "      <td>4.161727</td>\n",
       "      <td>0.0</td>\n",
       "      <td>2.0</td>\n",
       "      <td>4.0</td>\n",
       "      <td>7.0</td>\n",
       "      <td>123.0</td>\n",
       "    </tr>\n",
       "    <tr>\n",
       "      <th>1</th>\n",
       "      <td>4779.0</td>\n",
       "      <td>4.134547</td>\n",
       "      <td>3.894015</td>\n",
       "      <td>0.0</td>\n",
       "      <td>1.0</td>\n",
       "      <td>3.0</td>\n",
       "      <td>6.0</td>\n",
       "      <td>34.0</td>\n",
       "    </tr>\n",
       "  </tbody>\n",
       "</table>\n",
       "</div>"
      ],
      "text/plain": [
       "               count      mean       std  min  25%  50%  75%    max\n",
       "loan_status                                                        \n",
       "0            17388.0  4.978951  4.161727  0.0  2.0  4.0  7.0  123.0\n",
       "1             4779.0  4.134547  3.894015  0.0  1.0  3.0  6.0   34.0"
      ]
     },
     "execution_count": 25,
     "metadata": {},
     "output_type": "execute_result"
    }
   ],
   "source": [
    "# Descriptive of person_emp_length by response loan_status\n",
    "data_train['person_emp_length'].groupby(data_train[response_variable]).describe()"
   ]
  },
  {
   "cell_type": "code",
   "execution_count": 26,
   "metadata": {},
   "outputs": [
    {
     "data": {
      "text/plain": [
       "<AxesSubplot:xlabel='loan_status', ylabel='person_emp_length'>"
      ]
     },
     "execution_count": 26,
     "metadata": {},
     "output_type": "execute_result"
    },
    {
     "data": {
      "image/png": "[encoded data removed]",
      "text/plain": [
       "<Figure size 640x480 with 1 Axes>"
      ]
     },
     "metadata": {},
     "output_type": "display_data"
    }
   ],
   "source": [
    "# Boxplot of person_emp_length by response loan_status\n",
    "sns.boxplot(data = data_train,\n",
    "            x = response_variable,\n",
    "            y = 'person_emp_length')"
   ]
  },
  {
   "cell_type": "code",
   "execution_count": 27,
   "metadata": {},
   "outputs": [
    {
     "data": {
      "text/plain": [
       "<seaborn.axisgrid.FacetGrid at 0x20c652a1c10>"
      ]
     },
     "execution_count": 27,
     "metadata": {},
     "output_type": "execute_result"
    },
    {
     "data": {
      "image/png": "[encoded data removed]",
      "text/plain": [
       "<Figure size 590.486x500 with 1 Axes>"
      ]
     },
     "metadata": {},
     "output_type": "display_data"
    }
   ],
   "source": [
    "# Distribution plot of person_emp_length by response loan_status\n",
    "sns.displot(data = data_train,\n",
    "            x = 'person_emp_length',\n",
    "            hue = response_variable,\n",
    "            kind = 'kde')"
   ]
  },
  {
   "cell_type": "markdown",
   "metadata": {},
   "source": [
    "It seems we have outliers here. We also need to check the data integrity."
   ]
  },
  {
   "cell_type": "code",
   "execution_count": 28,
   "metadata": {},
   "outputs": [
    {
     "data": {
      "text/html": [
       "<div>\n",
       "<style scoped>\n",
       "    .dataframe tbody tr th:only-of-type {\n",
       "        vertical-align: middle;\n",
       "    }\n",
       "\n",
       "    .dataframe tbody tr th {\n",
       "        vertical-align: top;\n",
       "    }\n",
       "\n",
       "    .dataframe thead th {\n",
       "        text-align: right;\n",
       "    }\n",
       "</style>\n",
       "<table border=\"1\" class=\"dataframe\">\n",
       "  <thead>\n",
       "    <tr style=\"text-align: right;\">\n",
       "      <th></th>\n",
       "      <th>person_age</th>\n",
       "      <th>person_emp_length</th>\n",
       "      <th>cb_person_default_on_file</th>\n",
       "      <th>loan_status</th>\n",
       "    </tr>\n",
       "  </thead>\n",
       "  <tbody>\n",
       "    <tr>\n",
       "      <th>25029</th>\n",
       "      <td>27</td>\n",
       "      <td>11.0</td>\n",
       "      <td>N</td>\n",
       "      <td>0</td>\n",
       "    </tr>\n",
       "    <tr>\n",
       "      <th>179</th>\n",
       "      <td>24</td>\n",
       "      <td>8.0</td>\n",
       "      <td>N</td>\n",
       "      <td>0</td>\n",
       "    </tr>\n",
       "    <tr>\n",
       "      <th>11278</th>\n",
       "      <td>25</td>\n",
       "      <td>9.0</td>\n",
       "      <td>N</td>\n",
       "      <td>0</td>\n",
       "    </tr>\n",
       "    <tr>\n",
       "      <th>13547</th>\n",
       "      <td>22</td>\n",
       "      <td>6.0</td>\n",
       "      <td>N</td>\n",
       "      <td>0</td>\n",
       "    </tr>\n",
       "    <tr>\n",
       "      <th>17324</th>\n",
       "      <td>23</td>\n",
       "      <td>7.0</td>\n",
       "      <td>N</td>\n",
       "      <td>1</td>\n",
       "    </tr>\n",
       "    <tr>\n",
       "      <th>...</th>\n",
       "      <td>...</td>\n",
       "      <td>...</td>\n",
       "      <td>...</td>\n",
       "      <td>...</td>\n",
       "    </tr>\n",
       "    <tr>\n",
       "      <th>13675</th>\n",
       "      <td>26</td>\n",
       "      <td>10.0</td>\n",
       "      <td>N</td>\n",
       "      <td>0</td>\n",
       "    </tr>\n",
       "    <tr>\n",
       "      <th>14989</th>\n",
       "      <td>24</td>\n",
       "      <td>8.0</td>\n",
       "      <td>N</td>\n",
       "      <td>0</td>\n",
       "    </tr>\n",
       "    <tr>\n",
       "      <th>10023</th>\n",
       "      <td>23</td>\n",
       "      <td>7.0</td>\n",
       "      <td>N</td>\n",
       "      <td>0</td>\n",
       "    </tr>\n",
       "    <tr>\n",
       "      <th>1663</th>\n",
       "      <td>22</td>\n",
       "      <td>7.0</td>\n",
       "      <td>N</td>\n",
       "      <td>0</td>\n",
       "    </tr>\n",
       "    <tr>\n",
       "      <th>10456</th>\n",
       "      <td>22</td>\n",
       "      <td>6.0</td>\n",
       "      <td>N</td>\n",
       "      <td>1</td>\n",
       "    </tr>\n",
       "  </tbody>\n",
       "</table>\n",
       "<p>5475 rows × 4 columns</p>\n",
       "</div>"
      ],
      "text/plain": [
       "       person_age  person_emp_length cb_person_default_on_file  loan_status\n",
       "25029          27               11.0                         N            0\n",
       "179            24                8.0                         N            0\n",
       "11278          25                9.0                         N            0\n",
       "13547          22                6.0                         N            0\n",
       "17324          23                7.0                         N            1\n",
       "...           ...                ...                       ...          ...\n",
       "13675          26               10.0                         N            0\n",
       "14989          24                8.0                         N            0\n",
       "10023          23                7.0                         N            0\n",
       "1663           22                7.0                         N            0\n",
       "10456          22                6.0                         N            1\n",
       "\n",
       "[5475 rows x 4 columns]"
      ]
     },
     "execution_count": 28,
     "metadata": {},
     "output_type": "execute_result"
    }
   ],
   "source": [
    "# Check data integrity\n",
    "underage_workers = (data_train['person_age'] - data_train['person_emp_length']) < 18\n",
    "\n",
    "data_train[underage_workers]"
   ]
  },
  {
   "cell_type": "code",
   "execution_count": 29,
   "metadata": {},
   "outputs": [
    {
     "data": {
      "text/plain": [
       "0.24006840305182847"
      ]
     },
     "execution_count": 29,
     "metadata": {},
     "output_type": "execute_result"
    }
   ],
   "source": [
    "# Check the proportion of underage workers\n",
    "len(data_train[underage_workers])/len(data_train)"
   ]
  },
  {
   "cell_type": "code",
   "execution_count": 30,
   "metadata": {},
   "outputs": [
    {
     "data": {
      "text/html": [
       "<div>\n",
       "<style scoped>\n",
       "    .dataframe tbody tr th:only-of-type {\n",
       "        vertical-align: middle;\n",
       "    }\n",
       "\n",
       "    .dataframe tbody tr th {\n",
       "        vertical-align: top;\n",
       "    }\n",
       "\n",
       "    .dataframe thead th {\n",
       "        text-align: right;\n",
       "    }\n",
       "</style>\n",
       "<table border=\"1\" class=\"dataframe\">\n",
       "  <thead>\n",
       "    <tr style=\"text-align: right;\">\n",
       "      <th></th>\n",
       "      <th>person_age</th>\n",
       "      <th>person_emp_length</th>\n",
       "      <th>cb_person_default_on_file</th>\n",
       "      <th>loan_status</th>\n",
       "    </tr>\n",
       "  </thead>\n",
       "  <tbody>\n",
       "    <tr>\n",
       "      <th>210</th>\n",
       "      <td>21</td>\n",
       "      <td>123.0</td>\n",
       "      <td>N</td>\n",
       "      <td>0</td>\n",
       "    </tr>\n",
       "  </tbody>\n",
       "</table>\n",
       "</div>"
      ],
      "text/plain": [
       "     person_age  person_emp_length cb_person_default_on_file  loan_status\n",
       "210          21              123.0                         N            0"
      ]
     },
     "execution_count": 30,
     "metadata": {},
     "output_type": "execute_result"
    }
   ],
   "source": [
    "# Check data integrity\n",
    "invalid_workers =  data_train['person_emp_length'] > data_train['person_age']\n",
    "\n",
    "data_train[invalid_workers]"
   ]
  },
  {
   "cell_type": "markdown",
   "metadata": {},
   "source": [
    "- There is one invalid data where the employment's length exceeds the debtor's age.\n",
    "- About 24% of debtors from the training set are debtors who started working before the age of 18 years.\n",
    " - Do they come from the same distribution?"
   ]
  },
  {
   "cell_type": "code",
   "execution_count": 31,
   "metadata": {},
   "outputs": [
    {
     "data": {
      "text/plain": [
       "<seaborn.axisgrid.FacetGrid at 0x20c644cdeb0>"
      ]
     },
     "execution_count": 31,
     "metadata": {},
     "output_type": "execute_result"
    },
    {
     "data": {
      "image/png": "[encoded data removed]",
      "text/plain": [
       "<Figure size 590.486x500 with 1 Axes>"
      ]
     },
     "metadata": {},
     "output_type": "display_data"
    }
   ],
   "source": [
    "# Distribution plot of person_emp_length of underage_workers by response loan_status\n",
    "sns.displot(data = data_train[underage_workers],\n",
    "            x = 'person_emp_length',\n",
    "            hue = response_variable,\n",
    "            kind = 'kde')"
   ]
  },
  {
   "cell_type": "code",
   "execution_count": 32,
   "metadata": {},
   "outputs": [
    {
     "data": {
      "text/plain": [
       "639"
      ]
     },
     "execution_count": 32,
     "metadata": {},
     "output_type": "execute_result"
    }
   ],
   "source": [
    "# Check missing values\n",
    "data_train['person_emp_length'].isna().sum()"
   ]
  },
  {
   "cell_type": "markdown",
   "metadata": {},
   "source": [
    "**Summary**\n",
    "- Three-quarters of debtors have worked for 0-7 years, half of the debtors have worked for more than four years.\n",
    "- About 24% of debtors from the training set are debtors who started working before the age of 18 years.\n",
    "- There is one invalid data where the employment's length exceeds the debtor's age.\n",
    "\n",
    "**Pre-processing Plan:**\n",
    "- Check data integrity: about 24% of debtors start working before 18. Is it valid and acceptable?\n",
    "- We have 639 missing values.\n",
    "- Plan A:\n",
    "  - 'Missing' is grouped separately, and\n",
    "  - 'Underage workers' is grouped separately if it's not acceptable.\n",
    "- Plan B:\n",
    "  - Exclude the underage workers.\n",
    "  - Impute the missing values with the median."
   ]
  },
  {
   "cell_type": "markdown",
   "metadata": {},
   "source": [
    "### Predictor 11: cb_person_default_on_file\n",
    "---"
   ]
  },
  {
   "cell_type": "code",
   "execution_count": 33,
   "metadata": {},
   "outputs": [
    {
     "data": {
      "text/plain": [
       "N    0.822503\n",
       "Y    0.177497\n",
       "Name: cb_person_default_on_file, dtype: float64"
      ]
     },
     "execution_count": 33,
     "metadata": {},
     "output_type": "execute_result"
    }
   ],
   "source": [
    "# Describe proportion of 'cb_person_default_on_file'\n",
    "data_train['cb_person_default_on_file'].value_counts(normalize = True)"
   ]
  },
  {
   "cell_type": "markdown",
   "metadata": {},
   "source": [
    "From here, we know that our sample is dominated by customers who never be in default, in a ratio of 82:18."
   ]
  },
  {
   "cell_type": "code",
   "execution_count": 34,
   "metadata": {},
   "outputs": [
    {
     "data": {
      "text/plain": [
       "<AxesSubplot:xlabel='cb_person_default_on_file', ylabel='count'>"
      ]
     },
     "execution_count": 34,
     "metadata": {},
     "output_type": "execute_result"
    },
    {
     "data": {
      "image/png": "[encoded data removed]",
      "text/plain": [
       "<Figure size 640x480 with 1 Axes>"
      ]
     },
     "metadata": {},
     "output_type": "display_data"
    }
   ],
   "source": [
    "# Describe proportion of default by 'cb_person_default_on_file'\n",
    "sns.countplot(data = data_train,\n",
    "              x = 'cb_person_default_on_file',\n",
    "              hue = response_variable)"
   ]
  },
  {
   "cell_type": "markdown",
   "metadata": {},
   "source": [
    "Even though the count of defaults from debtors who never default is higher, the higher odds of default seem from those who have been in default before.\n",
    "\n",
    "Let's check from the contingency table."
   ]
  },
  {
   "cell_type": "code",
   "execution_count": 35,
   "metadata": {},
   "outputs": [
    {
     "data": {
      "text/html": [
       "<div>\n",
       "<style scoped>\n",
       "    .dataframe tbody tr th:only-of-type {\n",
       "        vertical-align: middle;\n",
       "    }\n",
       "\n",
       "    .dataframe tbody tr th {\n",
       "        vertical-align: top;\n",
       "    }\n",
       "\n",
       "    .dataframe thead th {\n",
       "        text-align: right;\n",
       "    }\n",
       "</style>\n",
       "<table border=\"1\" class=\"dataframe\">\n",
       "  <thead>\n",
       "    <tr style=\"text-align: right;\">\n",
       "      <th>loan_status</th>\n",
       "      <th>0</th>\n",
       "      <th>1</th>\n",
       "    </tr>\n",
       "    <tr>\n",
       "      <th>cb_person_default_on_file</th>\n",
       "      <th></th>\n",
       "      <th></th>\n",
       "    </tr>\n",
       "  </thead>\n",
       "  <tbody>\n",
       "    <tr>\n",
       "      <th>N</th>\n",
       "      <td>15302</td>\n",
       "      <td>3456</td>\n",
       "    </tr>\n",
       "    <tr>\n",
       "      <th>Y</th>\n",
       "      <td>2529</td>\n",
       "      <td>1519</td>\n",
       "    </tr>\n",
       "  </tbody>\n",
       "</table>\n",
       "</div>"
      ],
      "text/plain": [
       "loan_status                    0     1\n",
       "cb_person_default_on_file             \n",
       "N                          15302  3456\n",
       "Y                           2529  1519"
      ]
     },
     "execution_count": 35,
     "metadata": {},
     "output_type": "execute_result"
    }
   ],
   "source": [
    "# Frequency of default by 'cb_person_default_on_file'\n",
    "default_by_history = pd.crosstab(data_train['cb_person_default_on_file'],\n",
    "                                 data_train[response_variable],\n",
    "                                 margins = False)\n",
    "default_by_history"
   ]
  },
  {
   "cell_type": "code",
   "execution_count": 36,
   "metadata": {},
   "outputs": [
    {
     "name": "stdout",
     "output_type": "stream",
     "text": [
      "Odds of default from debtors who:\n",
      "never default = 0.23\n",
      "ever default = 0.60\n"
     ]
    }
   ],
   "source": [
    "# Odds of default from those who never default\n",
    "odds_never_default = default_by_history[1][0]/default_by_history[0][0]\n",
    "\n",
    "# Odds of default from those who have been in default\n",
    "odds_ever_default = default_by_history[1][1]/default_by_history[0][1]\n",
    "\n",
    "print(\"Odds of default from debtors who:\")\n",
    "print(f\"never default = {odds_never_default:.2f}\")\n",
    "print(f\"ever default = {odds_ever_default:.2f}\")"
   ]
  },
  {
   "cell_type": "markdown",
   "metadata": {},
   "source": [
    "Let's check from the independence test whether the debtors who have been in default are independent of the probability of default."
   ]
  },
  {
   "cell_type": "code",
   "execution_count": 37,
   "metadata": {},
   "outputs": [
    {
     "name": "stdout",
     "output_type": "stream",
     "text": [
      "Chi-stat   : 711.0770\n",
      "P-value    : 0.0000\n"
     ]
    }
   ],
   "source": [
    "# Import the libraries\n",
    "import scipy.stats as stats\n",
    "from scipy.stats import chi2_contingency\n",
    "\n",
    "# Test whether churn is independent of TV subscriber\n",
    "stats.chi2_contingency(default_by_history)\n",
    "\n",
    "# Result of independence test\n",
    "result = stats.chi2_contingency(default_by_history)\n",
    "\n",
    "# Extract the test result\n",
    "stat = result[0]\n",
    "pval = result[1]\n",
    "\n",
    "print(f\"Chi-stat   : {stat:.4f}\")\n",
    "print(f\"P-value    : {pval:.4f}\")"
   ]
  },
  {
   "cell_type": "markdown",
   "metadata": {},
   "source": [
    "Let's make a function for running the independence test to see the conclusion practically."
   ]
  },
  {
   "cell_type": "code",
   "execution_count": 38,
   "metadata": {},
   "outputs": [],
   "source": [
    "# Create a function of independence test\n",
    "def independence_test(data, predictor_label, alpha=0.05):\n",
    "    \"\"\"\n",
    "    Funtion to perform the independence test.\n",
    "\n",
    "    Parameters\n",
    "    ----------\n",
    "    data : array like\n",
    "      The name of dataset.\n",
    "\n",
    "    predictor_label : object\n",
    "      The label of predictor variable.\n",
    "\n",
    "    alpha : float in range[0,1], default = 0.05\n",
    "      Probability of Type I Error (reject H0 when H0 is true).\n",
    "\n",
    "    \"\"\"\n",
    "    # Build the contingency table\n",
    "    crosstab = pd.crosstab(data[predictor_label],\n",
    "                           data[response_variable],\n",
    "                           margins = False)\n",
    "\n",
    "    # Test whether churn is independent of the predictor\n",
    "    stats.chi2_contingency(crosstab)\n",
    "\n",
    "    # Result of independence test\n",
    "    result = stats.chi2_contingency(crosstab)\n",
    "\n",
    "    # Extract the test result\n",
    "    stat = result[0]\n",
    "    pval = result[1]\n",
    "\n",
    "    # Print the conclusion\n",
    "    if pval < alpha:\n",
    "        print(f\"Default and {predictor_label} is not independent with P-val={pval}.\")\n",
    "    else:\n",
    "        print(f\"Default and {predictor_label} is independent with P-val={pval}.\")"
   ]
  },
  {
   "cell_type": "code",
   "execution_count": 39,
   "metadata": {},
   "outputs": [
    {
     "name": "stdout",
     "output_type": "stream",
     "text": [
      "Default and cb_person_default_on_file is not independent with P-val=1.166741294176887e-156.\n"
     ]
    }
   ],
   "source": [
    "# Perform the independence test\n",
    "independence_test(data = data_train,\n",
    "                  predictor_label = 'cb_person_default_on_file',\n",
    "                  alpha = 0.05)"
   ]
  },
  {
   "cell_type": "code",
   "execution_count": 40,
   "metadata": {},
   "outputs": [
    {
     "data": {
      "text/plain": [
       "0"
      ]
     },
     "execution_count": 40,
     "metadata": {},
     "output_type": "execute_result"
    }
   ],
   "source": [
    "# Checking missing value\n",
    "data_train['cb_person_default_on_file'].isna().sum()"
   ]
  },
  {
   "cell_type": "markdown",
   "metadata": {},
   "source": [
    "**Summary**\n",
    "- About 18% of debtors have a history of defaulting before.\n",
    "- Debtors who have defaulted before tend to default again afterward.\n",
    "\n",
    "**Pre-processing Plan:**\n",
    "- There is no missing values."
   ]
  },
  {
   "cell_type": "markdown",
   "metadata": {},
   "source": [
    "## **4. Check Correlation**\n",
    "---"
   ]
  },
  {
   "cell_type": "markdown",
   "metadata": {},
   "source": [
    "- We already checked the dependency between the response variable `loan_status` and the categorical predictor `cb_person_default_on_file`.\n",
    "- Next we will check the Pearson correlation between numerical predictors to see whether we have multicollinearity in training set."
   ]
  },
  {
   "cell_type": "code",
   "execution_count": 41,
   "metadata": {},
   "outputs": [
    {
     "data": {
      "text/plain": [
       "<seaborn.axisgrid.PairGrid at 0x20c652dd760>"
      ]
     },
     "execution_count": 41,
     "metadata": {},
     "output_type": "execute_result"
    },
    {
     "data": {
      "image/png": "[encoded data removed]",
      "text/plain": [
       "<Figure size 590.486x500 with 6 Axes>"
      ]
     },
     "metadata": {},
     "output_type": "display_data"
    }
   ],
   "source": [
    "# Check the scatter plot\n",
    "sns.pairplot(data_train,\n",
    "             hue = response_variable)"
   ]
  },
  {
   "cell_type": "code",
   "execution_count": 46,
   "metadata": {},
   "outputs": [
    {
     "data": {
      "text/html": [
       "<div>\n",
       "<style scoped>\n",
       "    .dataframe tbody tr th:only-of-type {\n",
       "        vertical-align: middle;\n",
       "    }\n",
       "\n",
       "    .dataframe tbody tr th {\n",
       "        vertical-align: top;\n",
       "    }\n",
       "\n",
       "    .dataframe thead th {\n",
       "        text-align: right;\n",
       "    }\n",
       "</style>\n",
       "<table border=\"1\" class=\"dataframe\">\n",
       "  <thead>\n",
       "    <tr style=\"text-align: right;\">\n",
       "      <th></th>\n",
       "      <th>person_age</th>\n",
       "      <th>person_emp_length</th>\n",
       "      <th>loan_status</th>\n",
       "    </tr>\n",
       "  </thead>\n",
       "  <tbody>\n",
       "    <tr>\n",
       "      <th>person_age</th>\n",
       "      <td>1.000000</td>\n",
       "      <td>0.171397</td>\n",
       "      <td>-0.018554</td>\n",
       "    </tr>\n",
       "    <tr>\n",
       "      <th>person_emp_length</th>\n",
       "      <td>0.171397</td>\n",
       "      <td>1.000000</td>\n",
       "      <td>-0.084284</td>\n",
       "    </tr>\n",
       "    <tr>\n",
       "      <th>loan_status</th>\n",
       "      <td>-0.018554</td>\n",
       "      <td>-0.084284</td>\n",
       "      <td>1.000000</td>\n",
       "    </tr>\n",
       "  </tbody>\n",
       "</table>\n",
       "</div>"
      ],
      "text/plain": [
       "                   person_age  person_emp_length  loan_status\n",
       "person_age           1.000000           0.171397    -0.018554\n",
       "person_emp_length    0.171397           1.000000    -0.084284\n",
       "loan_status         -0.018554          -0.084284     1.000000"
      ]
     },
     "execution_count": 46,
     "metadata": {},
     "output_type": "execute_result"
    }
   ],
   "source": [
    "# Calculate Pearson correlation coefficient from numerical predictors\n",
    "data_train_corr = data_train.corr(method = 'pearson')\n",
    "\n",
    "data_train_corr"
   ]
  },
  {
   "cell_type": "code",
   "execution_count": 47,
   "metadata": {},
   "outputs": [
    {
     "data": {
      "text/plain": [
       "<AxesSubplot:>"
      ]
     },
     "execution_count": 47,
     "metadata": {},
     "output_type": "execute_result"
    },
    {
     "data": {
      "image/png": "[encoded data removed]",
      "text/plain": [
       "<Figure size 640x480 with 2 Axes>"
      ]
     },
     "metadata": {},
     "output_type": "display_data"
    }
   ],
   "source": [
    "# Plot the heatmap correlation\n",
    "sns.heatmap(data = data_train_corr,\n",
    "            cmap = \"YlGnBu\",\n",
    "            annot = True)"
   ]
  },
  {
   "cell_type": "markdown",
   "metadata": {},
   "source": [
    "There is no multicollinearity in numerical predictors."
   ]
  },
  {
   "cell_type": "markdown",
   "metadata": {},
   "source": [
    "## **5. Initial Characteristic Analysis**\n",
    "---"
   ]
  },
  {
   "cell_type": "markdown",
   "metadata": {},
   "source": [
    "We know from EDA that we have missing values and invalid data in a numerical predictor, `person_emp_length`.\n",
    "\n",
    "There are two scenarios for the missing values.\n",
    "- Plan A:\n",
    "  - 'Missing' is grouped separately, and\n",
    "  - 'Underage workers' is grouped separately if it's not acceptable.\n",
    "- Plan B:\n",
    "  - Exclude the underage workers.\n",
    "  - Impute the missing values with the median.\n",
    "\n",
    "Here, we will perform plan A to retain the sample's information as it is."
   ]
  },
  {
   "cell_type": "markdown",
   "metadata": {},
   "source": [
    "### **1. Binning**\n",
    "---"
   ]
  },
  {
   "cell_type": "markdown",
   "metadata": {},
   "source": [
    "Create a function for binning the numerical predictors.\n",
    "- `person_age`\n",
    "-  `person_emp_length`"
   ]
  },
  {
   "cell_type": "code",
   "execution_count": 48,
   "metadata": {},
   "outputs": [],
   "source": [
    "# Create a function for binning the numerical predictor\n",
    "def create_binning(data, predictor_label, num_of_bins):\n",
    "    \"\"\"\n",
    "    Function for binning numerical predictor.\n",
    "\n",
    "    Parameters\n",
    "    ----------\n",
    "    data : array like\n",
    "      The name of dataset.\n",
    "\n",
    "    predictor_label : object\n",
    "      The label of predictor variable.\n",
    "\n",
    "    num_of_bins : integer\n",
    "      The number of bins.\n",
    "\n",
    "\n",
    "    Return\n",
    "    ------\n",
    "    data : array like\n",
    "      The name of transformed dataset.\n",
    "\n",
    "    \"\"\"\n",
    "    data = data.copy()\n",
    "\n",
    "    # Create a new column containing the binned predictor\n",
    "    data[predictor_label + \"_bin\"] = pd.qcut(data[predictor_label],\n",
    "                                             q = num_of_bins)\n",
    "\n",
    "    return data"
   ]
  },
  {
   "cell_type": "markdown",
   "metadata": {},
   "source": [
    "#### Predictor 1: person_age"
   ]
  },
  {
   "cell_type": "code",
   "execution_count": 49,
   "metadata": {},
   "outputs": [
    {
     "data": {
      "text/html": [
       "<div>\n",
       "<style scoped>\n",
       "    .dataframe tbody tr th:only-of-type {\n",
       "        vertical-align: middle;\n",
       "    }\n",
       "\n",
       "    .dataframe tbody tr th {\n",
       "        vertical-align: top;\n",
       "    }\n",
       "\n",
       "    .dataframe thead th {\n",
       "        text-align: right;\n",
       "    }\n",
       "</style>\n",
       "<table border=\"1\" class=\"dataframe\">\n",
       "  <thead>\n",
       "    <tr style=\"text-align: right;\">\n",
       "      <th></th>\n",
       "      <th>person_age</th>\n",
       "      <th>person_emp_length</th>\n",
       "      <th>cb_person_default_on_file</th>\n",
       "      <th>loan_status</th>\n",
       "      <th>person_age_bin</th>\n",
       "    </tr>\n",
       "  </thead>\n",
       "  <tbody>\n",
       "    <tr>\n",
       "      <th>11491</th>\n",
       "      <td>26</td>\n",
       "      <td>1.0</td>\n",
       "      <td>N</td>\n",
       "      <td>0</td>\n",
       "      <td>(23.0, 26.0]</td>\n",
       "    </tr>\n",
       "    <tr>\n",
       "      <th>3890</th>\n",
       "      <td>23</td>\n",
       "      <td>3.0</td>\n",
       "      <td>N</td>\n",
       "      <td>0</td>\n",
       "      <td>(19.999, 23.0]</td>\n",
       "    </tr>\n",
       "    <tr>\n",
       "      <th>17344</th>\n",
       "      <td>24</td>\n",
       "      <td>1.0</td>\n",
       "      <td>N</td>\n",
       "      <td>1</td>\n",
       "      <td>(23.0, 26.0]</td>\n",
       "    </tr>\n",
       "    <tr>\n",
       "      <th>13023</th>\n",
       "      <td>24</td>\n",
       "      <td>1.0</td>\n",
       "      <td>N</td>\n",
       "      <td>0</td>\n",
       "      <td>(23.0, 26.0]</td>\n",
       "    </tr>\n",
       "    <tr>\n",
       "      <th>29565</th>\n",
       "      <td>42</td>\n",
       "      <td>4.0</td>\n",
       "      <td>N</td>\n",
       "      <td>1</td>\n",
       "      <td>(30.0, 144.0]</td>\n",
       "    </tr>\n",
       "    <tr>\n",
       "      <th>...</th>\n",
       "      <td>...</td>\n",
       "      <td>...</td>\n",
       "      <td>...</td>\n",
       "      <td>...</td>\n",
       "      <td>...</td>\n",
       "    </tr>\n",
       "    <tr>\n",
       "      <th>22095</th>\n",
       "      <td>32</td>\n",
       "      <td>3.0</td>\n",
       "      <td>N</td>\n",
       "      <td>0</td>\n",
       "      <td>(30.0, 144.0]</td>\n",
       "    </tr>\n",
       "    <tr>\n",
       "      <th>18736</th>\n",
       "      <td>30</td>\n",
       "      <td>0.0</td>\n",
       "      <td>N</td>\n",
       "      <td>0</td>\n",
       "      <td>(26.0, 30.0]</td>\n",
       "    </tr>\n",
       "    <tr>\n",
       "      <th>1663</th>\n",
       "      <td>22</td>\n",
       "      <td>7.0</td>\n",
       "      <td>N</td>\n",
       "      <td>0</td>\n",
       "      <td>(19.999, 23.0]</td>\n",
       "    </tr>\n",
       "    <tr>\n",
       "      <th>18257</th>\n",
       "      <td>29</td>\n",
       "      <td>4.0</td>\n",
       "      <td>Y</td>\n",
       "      <td>0</td>\n",
       "      <td>(26.0, 30.0]</td>\n",
       "    </tr>\n",
       "    <tr>\n",
       "      <th>10456</th>\n",
       "      <td>22</td>\n",
       "      <td>6.0</td>\n",
       "      <td>N</td>\n",
       "      <td>1</td>\n",
       "      <td>(19.999, 23.0]</td>\n",
       "    </tr>\n",
       "  </tbody>\n",
       "</table>\n",
       "<p>22806 rows × 5 columns</p>\n",
       "</div>"
      ],
      "text/plain": [
       "       person_age  person_emp_length cb_person_default_on_file  loan_status  \\\n",
       "11491          26                1.0                         N            0   \n",
       "3890           23                3.0                         N            0   \n",
       "17344          24                1.0                         N            1   \n",
       "13023          24                1.0                         N            0   \n",
       "29565          42                4.0                         N            1   \n",
       "...           ...                ...                       ...          ...   \n",
       "22095          32                3.0                         N            0   \n",
       "18736          30                0.0                         N            0   \n",
       "1663           22                7.0                         N            0   \n",
       "18257          29                4.0                         Y            0   \n",
       "10456          22                6.0                         N            1   \n",
       "\n",
       "       person_age_bin  \n",
       "11491    (23.0, 26.0]  \n",
       "3890   (19.999, 23.0]  \n",
       "17344    (23.0, 26.0]  \n",
       "13023    (23.0, 26.0]  \n",
       "29565   (30.0, 144.0]  \n",
       "...               ...  \n",
       "22095   (30.0, 144.0]  \n",
       "18736    (26.0, 30.0]  \n",
       "1663   (19.999, 23.0]  \n",
       "18257    (26.0, 30.0]  \n",
       "10456  (19.999, 23.0]  \n",
       "\n",
       "[22806 rows x 5 columns]"
      ]
     },
     "execution_count": 49,
     "metadata": {},
     "output_type": "execute_result"
    }
   ],
   "source": [
    "# Bin person_age\n",
    "data_train_binned = create_binning(data = data_train,\n",
    "                                   predictor_label = 'person_age',\n",
    "                                   num_of_bins = 4)\n",
    "\n",
    "data_train_binned"
   ]
  },
  {
   "cell_type": "code",
   "execution_count": 50,
   "metadata": {},
   "outputs": [
    {
     "data": {
      "text/plain": [
       "(23.0, 26.0]      0.279225\n",
       "(19.999, 23.0]    0.269227\n",
       "(30.0, 144.0]     0.237481\n",
       "(26.0, 30.0]      0.214066\n",
       "Name: person_age_bin, dtype: float64"
      ]
     },
     "execution_count": 50,
     "metadata": {},
     "output_type": "execute_result"
    }
   ],
   "source": [
    "# Check the proportion of each bin\n",
    "data_train_binned['person_age_bin'].value_counts(normalize = True)"
   ]
  },
  {
   "cell_type": "code",
   "execution_count": 51,
   "metadata": {},
   "outputs": [
    {
     "data": {
      "text/html": [
       "<div>\n",
       "<style scoped>\n",
       "    .dataframe tbody tr th:only-of-type {\n",
       "        vertical-align: middle;\n",
       "    }\n",
       "\n",
       "    .dataframe tbody tr th {\n",
       "        vertical-align: top;\n",
       "    }\n",
       "\n",
       "    .dataframe thead th {\n",
       "        text-align: right;\n",
       "    }\n",
       "</style>\n",
       "<table border=\"1\" class=\"dataframe\">\n",
       "  <thead>\n",
       "    <tr style=\"text-align: right;\">\n",
       "      <th>loan_status</th>\n",
       "      <th>0</th>\n",
       "      <th>1</th>\n",
       "      <th>All</th>\n",
       "    </tr>\n",
       "    <tr>\n",
       "      <th>person_age_bin</th>\n",
       "      <th></th>\n",
       "      <th></th>\n",
       "      <th></th>\n",
       "    </tr>\n",
       "  </thead>\n",
       "  <tbody>\n",
       "    <tr>\n",
       "      <th>(19.999, 23.0]</th>\n",
       "      <td>4671</td>\n",
       "      <td>1469</td>\n",
       "      <td>6140</td>\n",
       "    </tr>\n",
       "    <tr>\n",
       "      <th>(23.0, 26.0]</th>\n",
       "      <td>5007</td>\n",
       "      <td>1361</td>\n",
       "      <td>6368</td>\n",
       "    </tr>\n",
       "    <tr>\n",
       "      <th>(26.0, 30.0]</th>\n",
       "      <td>3856</td>\n",
       "      <td>1026</td>\n",
       "      <td>4882</td>\n",
       "    </tr>\n",
       "    <tr>\n",
       "      <th>(30.0, 144.0]</th>\n",
       "      <td>4297</td>\n",
       "      <td>1119</td>\n",
       "      <td>5416</td>\n",
       "    </tr>\n",
       "    <tr>\n",
       "      <th>All</th>\n",
       "      <td>17831</td>\n",
       "      <td>4975</td>\n",
       "      <td>22806</td>\n",
       "    </tr>\n",
       "  </tbody>\n",
       "</table>\n",
       "</div>"
      ],
      "text/plain": [
       "loan_status         0     1    All\n",
       "person_age_bin                    \n",
       "(19.999, 23.0]   4671  1469   6140\n",
       "(23.0, 26.0]     5007  1361   6368\n",
       "(26.0, 30.0]     3856  1026   4882\n",
       "(30.0, 144.0]    4297  1119   5416\n",
       "All             17831  4975  22806"
      ]
     },
     "execution_count": 51,
     "metadata": {},
     "output_type": "execute_result"
    }
   ],
   "source": [
    "# Frequency of default by person_age_bin\n",
    "crosstab_age = pd.crosstab(data_train_binned['person_age_bin'],\n",
    "                           data_train_binned[response_variable],\n",
    "                           margins = True)\n",
    "crosstab_age"
   ]
  },
  {
   "cell_type": "markdown",
   "metadata": {},
   "source": [
    "#### Predictor 4: person_emp_length\n",
    "\n",
    "---"
   ]
  },
  {
   "cell_type": "code",
   "execution_count": 52,
   "metadata": {},
   "outputs": [
    {
     "data": {
      "text/html": [
       "<div>\n",
       "<style scoped>\n",
       "    .dataframe tbody tr th:only-of-type {\n",
       "        vertical-align: middle;\n",
       "    }\n",
       "\n",
       "    .dataframe tbody tr th {\n",
       "        vertical-align: top;\n",
       "    }\n",
       "\n",
       "    .dataframe thead th {\n",
       "        text-align: right;\n",
       "    }\n",
       "</style>\n",
       "<table border=\"1\" class=\"dataframe\">\n",
       "  <thead>\n",
       "    <tr style=\"text-align: right;\">\n",
       "      <th></th>\n",
       "      <th>person_age</th>\n",
       "      <th>person_emp_length</th>\n",
       "      <th>cb_person_default_on_file</th>\n",
       "      <th>loan_status</th>\n",
       "      <th>person_age_bin</th>\n",
       "      <th>person_emp_length_bin</th>\n",
       "    </tr>\n",
       "  </thead>\n",
       "  <tbody>\n",
       "    <tr>\n",
       "      <th>11491</th>\n",
       "      <td>26</td>\n",
       "      <td>1.0</td>\n",
       "      <td>N</td>\n",
       "      <td>0</td>\n",
       "      <td>(23.0, 26.0]</td>\n",
       "      <td>(-0.001, 2.0]</td>\n",
       "    </tr>\n",
       "    <tr>\n",
       "      <th>3890</th>\n",
       "      <td>23</td>\n",
       "      <td>3.0</td>\n",
       "      <td>N</td>\n",
       "      <td>0</td>\n",
       "      <td>(19.999, 23.0]</td>\n",
       "      <td>(2.0, 4.0]</td>\n",
       "    </tr>\n",
       "    <tr>\n",
       "      <th>17344</th>\n",
       "      <td>24</td>\n",
       "      <td>1.0</td>\n",
       "      <td>N</td>\n",
       "      <td>1</td>\n",
       "      <td>(23.0, 26.0]</td>\n",
       "      <td>(-0.001, 2.0]</td>\n",
       "    </tr>\n",
       "    <tr>\n",
       "      <th>13023</th>\n",
       "      <td>24</td>\n",
       "      <td>1.0</td>\n",
       "      <td>N</td>\n",
       "      <td>0</td>\n",
       "      <td>(23.0, 26.0]</td>\n",
       "      <td>(-0.001, 2.0]</td>\n",
       "    </tr>\n",
       "    <tr>\n",
       "      <th>29565</th>\n",
       "      <td>42</td>\n",
       "      <td>4.0</td>\n",
       "      <td>N</td>\n",
       "      <td>1</td>\n",
       "      <td>(30.0, 144.0]</td>\n",
       "      <td>(2.0, 4.0]</td>\n",
       "    </tr>\n",
       "    <tr>\n",
       "      <th>...</th>\n",
       "      <td>...</td>\n",
       "      <td>...</td>\n",
       "      <td>...</td>\n",
       "      <td>...</td>\n",
       "      <td>...</td>\n",
       "      <td>...</td>\n",
       "    </tr>\n",
       "    <tr>\n",
       "      <th>22095</th>\n",
       "      <td>32</td>\n",
       "      <td>3.0</td>\n",
       "      <td>N</td>\n",
       "      <td>0</td>\n",
       "      <td>(30.0, 144.0]</td>\n",
       "      <td>(2.0, 4.0]</td>\n",
       "    </tr>\n",
       "    <tr>\n",
       "      <th>18736</th>\n",
       "      <td>30</td>\n",
       "      <td>0.0</td>\n",
       "      <td>N</td>\n",
       "      <td>0</td>\n",
       "      <td>(26.0, 30.0]</td>\n",
       "      <td>(-0.001, 2.0]</td>\n",
       "    </tr>\n",
       "    <tr>\n",
       "      <th>1663</th>\n",
       "      <td>22</td>\n",
       "      <td>7.0</td>\n",
       "      <td>N</td>\n",
       "      <td>0</td>\n",
       "      <td>(19.999, 23.0]</td>\n",
       "      <td>(4.0, 7.0]</td>\n",
       "    </tr>\n",
       "    <tr>\n",
       "      <th>18257</th>\n",
       "      <td>29</td>\n",
       "      <td>4.0</td>\n",
       "      <td>Y</td>\n",
       "      <td>0</td>\n",
       "      <td>(26.0, 30.0]</td>\n",
       "      <td>(2.0, 4.0]</td>\n",
       "    </tr>\n",
       "    <tr>\n",
       "      <th>10456</th>\n",
       "      <td>22</td>\n",
       "      <td>6.0</td>\n",
       "      <td>N</td>\n",
       "      <td>1</td>\n",
       "      <td>(19.999, 23.0]</td>\n",
       "      <td>(4.0, 7.0]</td>\n",
       "    </tr>\n",
       "  </tbody>\n",
       "</table>\n",
       "<p>22806 rows × 6 columns</p>\n",
       "</div>"
      ],
      "text/plain": [
       "       person_age  person_emp_length cb_person_default_on_file  loan_status  \\\n",
       "11491          26                1.0                         N            0   \n",
       "3890           23                3.0                         N            0   \n",
       "17344          24                1.0                         N            1   \n",
       "13023          24                1.0                         N            0   \n",
       "29565          42                4.0                         N            1   \n",
       "...           ...                ...                       ...          ...   \n",
       "22095          32                3.0                         N            0   \n",
       "18736          30                0.0                         N            0   \n",
       "1663           22                7.0                         N            0   \n",
       "18257          29                4.0                         Y            0   \n",
       "10456          22                6.0                         N            1   \n",
       "\n",
       "       person_age_bin person_emp_length_bin  \n",
       "11491    (23.0, 26.0]         (-0.001, 2.0]  \n",
       "3890   (19.999, 23.0]            (2.0, 4.0]  \n",
       "17344    (23.0, 26.0]         (-0.001, 2.0]  \n",
       "13023    (23.0, 26.0]         (-0.001, 2.0]  \n",
       "29565   (30.0, 144.0]            (2.0, 4.0]  \n",
       "...               ...                   ...  \n",
       "22095   (30.0, 144.0]            (2.0, 4.0]  \n",
       "18736    (26.0, 30.0]         (-0.001, 2.0]  \n",
       "1663   (19.999, 23.0]            (4.0, 7.0]  \n",
       "18257    (26.0, 30.0]            (2.0, 4.0]  \n",
       "10456  (19.999, 23.0]            (4.0, 7.0]  \n",
       "\n",
       "[22806 rows x 6 columns]"
      ]
     },
     "execution_count": 52,
     "metadata": {},
     "output_type": "execute_result"
    }
   ],
   "source": [
    "# Bin person_emp_length\n",
    "data_train_binned = create_binning(data = data_train_binned,\n",
    "                                   predictor_label = 'person_emp_length',\n",
    "                                   num_of_bins = 4)\n",
    "\n",
    "data_train_binned"
   ]
  },
  {
   "cell_type": "code",
   "execution_count": 53,
   "metadata": {},
   "outputs": [
    {
     "data": {
      "text/plain": [
       "(-0.001, 2.0]    0.342130\n",
       "(4.0, 7.0]       0.247350\n",
       "(7.0, 123.0]     0.210809\n",
       "(2.0, 4.0]       0.199711\n",
       "Name: person_emp_length_bin, dtype: float64"
      ]
     },
     "execution_count": 53,
     "metadata": {},
     "output_type": "execute_result"
    }
   ],
   "source": [
    "# Check the proportion of each bin\n",
    "data_train_binned['person_emp_length_bin'].value_counts(normalize = True)"
   ]
  },
  {
   "cell_type": "markdown",
   "metadata": {},
   "source": [
    "Remember, we have missing values.\n",
    "Missing values will be grouped separately as 'Missing' category."
   ]
  },
  {
   "cell_type": "code",
   "execution_count": 54,
   "metadata": {},
   "outputs": [],
   "source": [
    "# Add category 'Missing' to replace the missing values\n",
    "data_train_binned['person_emp_length_bin'] = data_train_binned['person_emp_length_bin'].cat.add_categories('Missing')\n",
    "\n",
    "# Replace missing values with category 'Missing'\n",
    "data_train_binned['person_emp_length_bin'].fillna(value = 'Missing',\n",
    "                                                  inplace = True)"
   ]
  },
  {
   "cell_type": "code",
   "execution_count": 55,
   "metadata": {},
   "outputs": [
    {
     "data": {
      "text/plain": [
       "0"
      ]
     },
     "execution_count": 55,
     "metadata": {},
     "output_type": "execute_result"
    }
   ],
   "source": [
    "# Sanity check\n",
    "data_train_binned['person_emp_length_bin'].isna().sum()"
   ]
  },
  {
   "cell_type": "code",
   "execution_count": 56,
   "metadata": {},
   "outputs": [
    {
     "data": {
      "text/plain": [
       "(-0.001, 2.0]    0.332544\n",
       "(4.0, 7.0]       0.240419\n",
       "(7.0, 123.0]     0.204902\n",
       "(2.0, 4.0]       0.194116\n",
       "Missing          0.028019\n",
       "Name: person_emp_length_bin, dtype: float64"
      ]
     },
     "execution_count": 56,
     "metadata": {},
     "output_type": "execute_result"
    }
   ],
   "source": [
    "# Check the proportion of each bin\n",
    "data_train_binned['person_emp_length_bin'].value_counts(normalize = True)"
   ]
  },
  {
   "cell_type": "code",
   "execution_count": 57,
   "metadata": {},
   "outputs": [
    {
     "data": {
      "text/html": [
       "<div>\n",
       "<style scoped>\n",
       "    .dataframe tbody tr th:only-of-type {\n",
       "        vertical-align: middle;\n",
       "    }\n",
       "\n",
       "    .dataframe tbody tr th {\n",
       "        vertical-align: top;\n",
       "    }\n",
       "\n",
       "    .dataframe thead th {\n",
       "        text-align: right;\n",
       "    }\n",
       "</style>\n",
       "<table border=\"1\" class=\"dataframe\">\n",
       "  <thead>\n",
       "    <tr style=\"text-align: right;\">\n",
       "      <th>loan_status</th>\n",
       "      <th>0</th>\n",
       "      <th>1</th>\n",
       "      <th>All</th>\n",
       "    </tr>\n",
       "    <tr>\n",
       "      <th>person_emp_length_bin</th>\n",
       "      <th></th>\n",
       "      <th></th>\n",
       "      <th></th>\n",
       "    </tr>\n",
       "  </thead>\n",
       "  <tbody>\n",
       "    <tr>\n",
       "      <th>(-0.001, 2.0]</th>\n",
       "      <td>5533</td>\n",
       "      <td>2051</td>\n",
       "      <td>7584</td>\n",
       "    </tr>\n",
       "    <tr>\n",
       "      <th>(2.0, 4.0]</th>\n",
       "      <td>3510</td>\n",
       "      <td>917</td>\n",
       "      <td>4427</td>\n",
       "    </tr>\n",
       "    <tr>\n",
       "      <th>(4.0, 7.0]</th>\n",
       "      <td>4460</td>\n",
       "      <td>1023</td>\n",
       "      <td>5483</td>\n",
       "    </tr>\n",
       "    <tr>\n",
       "      <th>(7.0, 123.0]</th>\n",
       "      <td>3885</td>\n",
       "      <td>788</td>\n",
       "      <td>4673</td>\n",
       "    </tr>\n",
       "    <tr>\n",
       "      <th>Missing</th>\n",
       "      <td>443</td>\n",
       "      <td>196</td>\n",
       "      <td>639</td>\n",
       "    </tr>\n",
       "    <tr>\n",
       "      <th>All</th>\n",
       "      <td>17831</td>\n",
       "      <td>4975</td>\n",
       "      <td>22806</td>\n",
       "    </tr>\n",
       "  </tbody>\n",
       "</table>\n",
       "</div>"
      ],
      "text/plain": [
       "loan_status                0     1    All\n",
       "person_emp_length_bin                    \n",
       "(-0.001, 2.0]           5533  2051   7584\n",
       "(2.0, 4.0]              3510   917   4427\n",
       "(4.0, 7.0]              4460  1023   5483\n",
       "(7.0, 123.0]            3885   788   4673\n",
       "Missing                  443   196    639\n",
       "All                    17831  4975  22806"
      ]
     },
     "execution_count": 57,
     "metadata": {},
     "output_type": "execute_result"
    }
   ],
   "source": [
    "# Frequency of default by person_emp_length\n",
    "crosstab_emp_length = pd.crosstab(data_train_binned['person_emp_length_bin'],\n",
    "                                  data_train_binned[response_variable],\n",
    "                                  margins = True)\n",
    "crosstab_emp_length"
   ]
  },
  {
   "cell_type": "markdown",
   "metadata": {},
   "source": [
    "### **2. WoE and IV**\n",
    "---  \n",
    "To assess the strength of each characteristic individually as a predictor of the credit performance.\n",
    "\n",
    "- Weight of Evidence (WoE) — measures the strength of each attribute.\n",
    "\n",
    "$$\n",
    "\\begin{align*}\n",
    "W_i &= \\ln ( \\% \\text{Good} / \\% \\text{Bad} ) \\\\\n",
    "W_i &= \\ln \\left ( \\left ( \\frac{N_i}{\\sum N} \\right ) / \\left ( \\frac{P_i}{\\sum P} \\right )\\right ) \\\\\n",
    "\\end{align*}\n",
    "$$\n",
    "\n",
    "- Information Value (IV) — measures the total strength of the characteristic.\n",
    "\n",
    "$$\n",
    "\\begin{align*}\n",
    "IV &= \\sum_{i=1}^{n} ( \\% \\text{Good} - \\% \\text{Bad} ) \\times W_i \\\\\n",
    "IV &= \\sum_{i=1}^{n}\\left [ \\left ( \\frac{N_i}{\\sum N} - \\frac{P_i}{\\sum P} \\right ) \\times W_i \\right ] \\\\\n",
    "\\end{align*}\n",
    "$$"
   ]
  },
  {
   "cell_type": "markdown",
   "metadata": {},
   "source": [
    "#### Predictor 1: person_age"
   ]
  },
  {
   "cell_type": "code",
   "execution_count": 58,
   "metadata": {},
   "outputs": [
    {
     "data": {
      "text/html": [
       "<div>\n",
       "<style scoped>\n",
       "    .dataframe tbody tr th:only-of-type {\n",
       "        vertical-align: middle;\n",
       "    }\n",
       "\n",
       "    .dataframe tbody tr th {\n",
       "        vertical-align: top;\n",
       "    }\n",
       "\n",
       "    .dataframe thead th {\n",
       "        text-align: right;\n",
       "    }\n",
       "</style>\n",
       "<table border=\"1\" class=\"dataframe\">\n",
       "  <thead>\n",
       "    <tr style=\"text-align: right;\">\n",
       "      <th>loan_status</th>\n",
       "      <th>0</th>\n",
       "      <th>1</th>\n",
       "      <th>All</th>\n",
       "    </tr>\n",
       "    <tr>\n",
       "      <th>person_age_bin</th>\n",
       "      <th></th>\n",
       "      <th></th>\n",
       "      <th></th>\n",
       "    </tr>\n",
       "  </thead>\n",
       "  <tbody>\n",
       "    <tr>\n",
       "      <th>(19.999, 23.0]</th>\n",
       "      <td>4671</td>\n",
       "      <td>1469</td>\n",
       "      <td>6140</td>\n",
       "    </tr>\n",
       "    <tr>\n",
       "      <th>(23.0, 26.0]</th>\n",
       "      <td>5007</td>\n",
       "      <td>1361</td>\n",
       "      <td>6368</td>\n",
       "    </tr>\n",
       "    <tr>\n",
       "      <th>(26.0, 30.0]</th>\n",
       "      <td>3856</td>\n",
       "      <td>1026</td>\n",
       "      <td>4882</td>\n",
       "    </tr>\n",
       "    <tr>\n",
       "      <th>(30.0, 144.0]</th>\n",
       "      <td>4297</td>\n",
       "      <td>1119</td>\n",
       "      <td>5416</td>\n",
       "    </tr>\n",
       "    <tr>\n",
       "      <th>All</th>\n",
       "      <td>17831</td>\n",
       "      <td>4975</td>\n",
       "      <td>22806</td>\n",
       "    </tr>\n",
       "  </tbody>\n",
       "</table>\n",
       "</div>"
      ],
      "text/plain": [
       "loan_status         0     1    All\n",
       "person_age_bin                    \n",
       "(19.999, 23.0]   4671  1469   6140\n",
       "(23.0, 26.0]     5007  1361   6368\n",
       "(26.0, 30.0]     3856  1026   4882\n",
       "(30.0, 144.0]    4297  1119   5416\n",
       "All             17831  4975  22806"
      ]
     },
     "execution_count": 58,
     "metadata": {},
     "output_type": "execute_result"
    }
   ],
   "source": [
    "# Display the crosstab\n",
    "crosstab_age"
   ]
  },
  {
   "cell_type": "code",
   "execution_count": 59,
   "metadata": {},
   "outputs": [],
   "source": [
    "# Calculate % Good\n",
    "crosstab_age['p_good'] = crosstab_age[0]/crosstab_age[0]['All']\n",
    "\n",
    "# Calculate % Bad\n",
    "crosstab_age['p_bad'] = crosstab_age[1]/crosstab_age[1]['All']\n",
    "\n",
    "# Calculate the WOE\n",
    "crosstab_age['WOE'] = np.log(crosstab_age['p_good']/crosstab_age['p_bad'])\n",
    "\n",
    "# Calculate the contribution value for IV\n",
    "crosstab_age['contribution'] = (crosstab_age['p_good']-crosstab_age['p_bad'])*crosstab_age['WOE']"
   ]
  },
  {
   "cell_type": "code",
   "execution_count": 60,
   "metadata": {},
   "outputs": [
    {
     "data": {
      "text/html": [
       "<div>\n",
       "<style scoped>\n",
       "    .dataframe tbody tr th:only-of-type {\n",
       "        vertical-align: middle;\n",
       "    }\n",
       "\n",
       "    .dataframe tbody tr th {\n",
       "        vertical-align: top;\n",
       "    }\n",
       "\n",
       "    .dataframe thead th {\n",
       "        text-align: right;\n",
       "    }\n",
       "</style>\n",
       "<table border=\"1\" class=\"dataframe\">\n",
       "  <thead>\n",
       "    <tr style=\"text-align: right;\">\n",
       "      <th>loan_status</th>\n",
       "      <th>0</th>\n",
       "      <th>1</th>\n",
       "      <th>All</th>\n",
       "      <th>p_good</th>\n",
       "      <th>p_bad</th>\n",
       "      <th>WOE</th>\n",
       "      <th>contribution</th>\n",
       "    </tr>\n",
       "    <tr>\n",
       "      <th>person_age_bin</th>\n",
       "      <th></th>\n",
       "      <th></th>\n",
       "      <th></th>\n",
       "      <th></th>\n",
       "      <th></th>\n",
       "      <th></th>\n",
       "      <th></th>\n",
       "    </tr>\n",
       "  </thead>\n",
       "  <tbody>\n",
       "    <tr>\n",
       "      <th>(19.999, 23.0]</th>\n",
       "      <td>4671</td>\n",
       "      <td>1469</td>\n",
       "      <td>6140</td>\n",
       "      <td>0.261960</td>\n",
       "      <td>0.295276</td>\n",
       "      <td>-0.119722</td>\n",
       "      <td>0.003989</td>\n",
       "    </tr>\n",
       "    <tr>\n",
       "      <th>(23.0, 26.0]</th>\n",
       "      <td>5007</td>\n",
       "      <td>1361</td>\n",
       "      <td>6368</td>\n",
       "      <td>0.280803</td>\n",
       "      <td>0.273568</td>\n",
       "      <td>0.026104</td>\n",
       "      <td>0.000189</td>\n",
       "    </tr>\n",
       "    <tr>\n",
       "      <th>(26.0, 30.0]</th>\n",
       "      <td>3856</td>\n",
       "      <td>1026</td>\n",
       "      <td>4882</td>\n",
       "      <td>0.216253</td>\n",
       "      <td>0.206231</td>\n",
       "      <td>0.047449</td>\n",
       "      <td>0.000476</td>\n",
       "    </tr>\n",
       "    <tr>\n",
       "      <th>(30.0, 144.0]</th>\n",
       "      <td>4297</td>\n",
       "      <td>1119</td>\n",
       "      <td>5416</td>\n",
       "      <td>0.240985</td>\n",
       "      <td>0.224925</td>\n",
       "      <td>0.068969</td>\n",
       "      <td>0.001108</td>\n",
       "    </tr>\n",
       "    <tr>\n",
       "      <th>All</th>\n",
       "      <td>17831</td>\n",
       "      <td>4975</td>\n",
       "      <td>22806</td>\n",
       "      <td>1.000000</td>\n",
       "      <td>1.000000</td>\n",
       "      <td>0.000000</td>\n",
       "      <td>0.000000</td>\n",
       "    </tr>\n",
       "  </tbody>\n",
       "</table>\n",
       "</div>"
      ],
      "text/plain": [
       "loan_status         0     1    All    p_good     p_bad       WOE  contribution\n",
       "person_age_bin                                                                \n",
       "(19.999, 23.0]   4671  1469   6140  0.261960  0.295276 -0.119722      0.003989\n",
       "(23.0, 26.0]     5007  1361   6368  0.280803  0.273568  0.026104      0.000189\n",
       "(26.0, 30.0]     3856  1026   4882  0.216253  0.206231  0.047449      0.000476\n",
       "(30.0, 144.0]    4297  1119   5416  0.240985  0.224925  0.068969      0.001108\n",
       "All             17831  4975  22806  1.000000  1.000000  0.000000      0.000000"
      ]
     },
     "execution_count": 60,
     "metadata": {},
     "output_type": "execute_result"
    }
   ],
   "source": [
    "# Display the result\n",
    "crosstab_age"
   ]
  },
  {
   "cell_type": "code",
   "execution_count": 61,
   "metadata": {},
   "outputs": [
    {
     "data": {
      "text/plain": [
       "0.0057607866468167455"
      ]
     },
     "execution_count": 61,
     "metadata": {},
     "output_type": "execute_result"
    }
   ],
   "source": [
    "# Calculate the IV\n",
    "IV_age = crosstab_age['contribution'][:-1].sum()\n",
    "IV_age"
   ]
  },
  {
   "cell_type": "markdown",
   "metadata": {},
   "source": [
    "Summarize the calculations in a function."
   ]
  },
  {
   "cell_type": "code",
   "execution_count": 62,
   "metadata": {},
   "outputs": [],
   "source": [
    "# Create a function to calculate the WOE and IV\n",
    "def WOE_IV(crosstab):\n",
    "    \"\"\"\n",
    "    Function to calculate WOE and IV.\n",
    "\n",
    "    Parameters\n",
    "    ----------\n",
    "    crosstab : DataFrame\n",
    "      The cross tabulation between characteristic and response variable.\n",
    "\n",
    "    Return\n",
    "    ------\n",
    "    crosstab : DataFrame\n",
    "      The crosstab with additional information of WOE.\n",
    "    IV : float\n",
    "      The infromation value of the characteristic.\n",
    "\n",
    "    \"\"\"\n",
    "    # Calculate % Good\n",
    "    crosstab['p_good'] = crosstab[0]/crosstab[0]['All']\n",
    "\n",
    "    # Calculate % Bad\n",
    "    crosstab['p_bad'] = crosstab[1]/crosstab[1]['All']\n",
    "\n",
    "    # Calculate the WOE\n",
    "    crosstab['WOE'] = np.log(crosstab['p_good']/crosstab['p_bad'])\n",
    "\n",
    "    # Calculate the contribution value for IV\n",
    "    crosstab['contribution'] = (crosstab['p_good']-crosstab['p_bad'])*crosstab['WOE']\n",
    "\n",
    "    # Calculate the IV\n",
    "    IV = crosstab['contribution'][:-1].sum()\n",
    "\n",
    "    return crosstab, IV"
   ]
  },
  {
   "cell_type": "code",
   "execution_count": 63,
   "metadata": {},
   "outputs": [],
   "source": [
    "# Check the function\n",
    "crosstab_age, IV_age = WOE_IV(crosstab = crosstab_age)"
   ]
  },
  {
   "cell_type": "code",
   "execution_count": 64,
   "metadata": {},
   "outputs": [
    {
     "data": {
      "text/html": [
       "<div>\n",
       "<style scoped>\n",
       "    .dataframe tbody tr th:only-of-type {\n",
       "        vertical-align: middle;\n",
       "    }\n",
       "\n",
       "    .dataframe tbody tr th {\n",
       "        vertical-align: top;\n",
       "    }\n",
       "\n",
       "    .dataframe thead th {\n",
       "        text-align: right;\n",
       "    }\n",
       "</style>\n",
       "<table border=\"1\" class=\"dataframe\">\n",
       "  <thead>\n",
       "    <tr style=\"text-align: right;\">\n",
       "      <th>loan_status</th>\n",
       "      <th>0</th>\n",
       "      <th>1</th>\n",
       "      <th>All</th>\n",
       "      <th>p_good</th>\n",
       "      <th>p_bad</th>\n",
       "      <th>WOE</th>\n",
       "      <th>contribution</th>\n",
       "    </tr>\n",
       "    <tr>\n",
       "      <th>person_age_bin</th>\n",
       "      <th></th>\n",
       "      <th></th>\n",
       "      <th></th>\n",
       "      <th></th>\n",
       "      <th></th>\n",
       "      <th></th>\n",
       "      <th></th>\n",
       "    </tr>\n",
       "  </thead>\n",
       "  <tbody>\n",
       "    <tr>\n",
       "      <th>(19.999, 23.0]</th>\n",
       "      <td>4671</td>\n",
       "      <td>1469</td>\n",
       "      <td>6140</td>\n",
       "      <td>0.261960</td>\n",
       "      <td>0.295276</td>\n",
       "      <td>-0.119722</td>\n",
       "      <td>0.003989</td>\n",
       "    </tr>\n",
       "    <tr>\n",
       "      <th>(23.0, 26.0]</th>\n",
       "      <td>5007</td>\n",
       "      <td>1361</td>\n",
       "      <td>6368</td>\n",
       "      <td>0.280803</td>\n",
       "      <td>0.273568</td>\n",
       "      <td>0.026104</td>\n",
       "      <td>0.000189</td>\n",
       "    </tr>\n",
       "    <tr>\n",
       "      <th>(26.0, 30.0]</th>\n",
       "      <td>3856</td>\n",
       "      <td>1026</td>\n",
       "      <td>4882</td>\n",
       "      <td>0.216253</td>\n",
       "      <td>0.206231</td>\n",
       "      <td>0.047449</td>\n",
       "      <td>0.000476</td>\n",
       "    </tr>\n",
       "    <tr>\n",
       "      <th>(30.0, 144.0]</th>\n",
       "      <td>4297</td>\n",
       "      <td>1119</td>\n",
       "      <td>5416</td>\n",
       "      <td>0.240985</td>\n",
       "      <td>0.224925</td>\n",
       "      <td>0.068969</td>\n",
       "      <td>0.001108</td>\n",
       "    </tr>\n",
       "    <tr>\n",
       "      <th>All</th>\n",
       "      <td>17831</td>\n",
       "      <td>4975</td>\n",
       "      <td>22806</td>\n",
       "      <td>1.000000</td>\n",
       "      <td>1.000000</td>\n",
       "      <td>0.000000</td>\n",
       "      <td>0.000000</td>\n",
       "    </tr>\n",
       "  </tbody>\n",
       "</table>\n",
       "</div>"
      ],
      "text/plain": [
       "loan_status         0     1    All    p_good     p_bad       WOE  contribution\n",
       "person_age_bin                                                                \n",
       "(19.999, 23.0]   4671  1469   6140  0.261960  0.295276 -0.119722      0.003989\n",
       "(23.0, 26.0]     5007  1361   6368  0.280803  0.273568  0.026104      0.000189\n",
       "(26.0, 30.0]     3856  1026   4882  0.216253  0.206231  0.047449      0.000476\n",
       "(30.0, 144.0]    4297  1119   5416  0.240985  0.224925  0.068969      0.001108\n",
       "All             17831  4975  22806  1.000000  1.000000  0.000000      0.000000"
      ]
     },
     "execution_count": 64,
     "metadata": {},
     "output_type": "execute_result"
    }
   ],
   "source": [
    "# Display the result\n",
    "crosstab_age"
   ]
  },
  {
   "cell_type": "code",
   "execution_count": 65,
   "metadata": {},
   "outputs": [
    {
     "data": {
      "text/plain": [
       "0.0057607866468167455"
      ]
     },
     "execution_count": 65,
     "metadata": {},
     "output_type": "execute_result"
    }
   ],
   "source": [
    "# Check the IV\n",
    "IV_age"
   ]
  },
  {
   "cell_type": "code",
   "execution_count": 66,
   "metadata": {},
   "outputs": [
    {
     "data": {
      "text/html": [
       "<div>\n",
       "<style scoped>\n",
       "    .dataframe tbody tr th:only-of-type {\n",
       "        vertical-align: middle;\n",
       "    }\n",
       "\n",
       "    .dataframe tbody tr th {\n",
       "        vertical-align: top;\n",
       "    }\n",
       "\n",
       "    .dataframe thead th {\n",
       "        text-align: right;\n",
       "    }\n",
       "</style>\n",
       "<table border=\"1\" class=\"dataframe\">\n",
       "  <thead>\n",
       "    <tr style=\"text-align: right;\">\n",
       "      <th></th>\n",
       "      <th>Characteristic</th>\n",
       "      <th>Information Value</th>\n",
       "    </tr>\n",
       "  </thead>\n",
       "  <tbody>\n",
       "    <tr>\n",
       "      <th>0</th>\n",
       "      <td>person_age</td>\n",
       "      <td>0.005761</td>\n",
       "    </tr>\n",
       "  </tbody>\n",
       "</table>\n",
       "</div>"
      ],
      "text/plain": [
       "  Characteristic  Information Value\n",
       "0     person_age           0.005761"
      ]
     },
     "execution_count": 66,
     "metadata": {},
     "output_type": "execute_result"
    }
   ],
   "source": [
    "# Summarize the IV in a table\n",
    "IV_table = pd.DataFrame({'Characteristic': 'person_age',\n",
    "                         'Information Value' : [IV_age]})\n",
    "\n",
    "IV_table"
   ]
  },
  {
   "cell_type": "markdown",
   "metadata": {},
   "source": [
    "#### Predictor 2: person_emp_length\n",
    "\n",
    "---"
   ]
  },
  {
   "cell_type": "code",
   "execution_count": 67,
   "metadata": {},
   "outputs": [
    {
     "data": {
      "text/html": [
       "<div>\n",
       "<style scoped>\n",
       "    .dataframe tbody tr th:only-of-type {\n",
       "        vertical-align: middle;\n",
       "    }\n",
       "\n",
       "    .dataframe tbody tr th {\n",
       "        vertical-align: top;\n",
       "    }\n",
       "\n",
       "    .dataframe thead th {\n",
       "        text-align: right;\n",
       "    }\n",
       "</style>\n",
       "<table border=\"1\" class=\"dataframe\">\n",
       "  <thead>\n",
       "    <tr style=\"text-align: right;\">\n",
       "      <th>loan_status</th>\n",
       "      <th>0</th>\n",
       "      <th>1</th>\n",
       "      <th>All</th>\n",
       "    </tr>\n",
       "    <tr>\n",
       "      <th>person_emp_length_bin</th>\n",
       "      <th></th>\n",
       "      <th></th>\n",
       "      <th></th>\n",
       "    </tr>\n",
       "  </thead>\n",
       "  <tbody>\n",
       "    <tr>\n",
       "      <th>(-0.001, 2.0]</th>\n",
       "      <td>5533</td>\n",
       "      <td>2051</td>\n",
       "      <td>7584</td>\n",
       "    </tr>\n",
       "    <tr>\n",
       "      <th>(2.0, 4.0]</th>\n",
       "      <td>3510</td>\n",
       "      <td>917</td>\n",
       "      <td>4427</td>\n",
       "    </tr>\n",
       "    <tr>\n",
       "      <th>(4.0, 7.0]</th>\n",
       "      <td>4460</td>\n",
       "      <td>1023</td>\n",
       "      <td>5483</td>\n",
       "    </tr>\n",
       "    <tr>\n",
       "      <th>(7.0, 123.0]</th>\n",
       "      <td>3885</td>\n",
       "      <td>788</td>\n",
       "      <td>4673</td>\n",
       "    </tr>\n",
       "    <tr>\n",
       "      <th>Missing</th>\n",
       "      <td>443</td>\n",
       "      <td>196</td>\n",
       "      <td>639</td>\n",
       "    </tr>\n",
       "    <tr>\n",
       "      <th>All</th>\n",
       "      <td>17831</td>\n",
       "      <td>4975</td>\n",
       "      <td>22806</td>\n",
       "    </tr>\n",
       "  </tbody>\n",
       "</table>\n",
       "</div>"
      ],
      "text/plain": [
       "loan_status                0     1    All\n",
       "person_emp_length_bin                    \n",
       "(-0.001, 2.0]           5533  2051   7584\n",
       "(2.0, 4.0]              3510   917   4427\n",
       "(4.0, 7.0]              4460  1023   5483\n",
       "(7.0, 123.0]            3885   788   4673\n",
       "Missing                  443   196    639\n",
       "All                    17831  4975  22806"
      ]
     },
     "execution_count": 67,
     "metadata": {},
     "output_type": "execute_result"
    }
   ],
   "source": [
    "# Display the crosstab\n",
    "crosstab_emp_length"
   ]
  },
  {
   "cell_type": "code",
   "execution_count": 68,
   "metadata": {},
   "outputs": [],
   "source": [
    "# Calculate the WOE and IV\n",
    "crosstab_emp_length, IV_emp_length = WOE_IV(crosstab = crosstab_emp_length)"
   ]
  },
  {
   "cell_type": "code",
   "execution_count": 69,
   "metadata": {},
   "outputs": [
    {
     "data": {
      "text/html": [
       "<div>\n",
       "<style scoped>\n",
       "    .dataframe tbody tr th:only-of-type {\n",
       "        vertical-align: middle;\n",
       "    }\n",
       "\n",
       "    .dataframe tbody tr th {\n",
       "        vertical-align: top;\n",
       "    }\n",
       "\n",
       "    .dataframe thead th {\n",
       "        text-align: right;\n",
       "    }\n",
       "</style>\n",
       "<table border=\"1\" class=\"dataframe\">\n",
       "  <thead>\n",
       "    <tr style=\"text-align: right;\">\n",
       "      <th>loan_status</th>\n",
       "      <th>0</th>\n",
       "      <th>1</th>\n",
       "      <th>All</th>\n",
       "      <th>p_good</th>\n",
       "      <th>p_bad</th>\n",
       "      <th>WOE</th>\n",
       "      <th>contribution</th>\n",
       "    </tr>\n",
       "    <tr>\n",
       "      <th>person_emp_length_bin</th>\n",
       "      <th></th>\n",
       "      <th></th>\n",
       "      <th></th>\n",
       "      <th></th>\n",
       "      <th></th>\n",
       "      <th></th>\n",
       "      <th></th>\n",
       "    </tr>\n",
       "  </thead>\n",
       "  <tbody>\n",
       "    <tr>\n",
       "      <th>(-0.001, 2.0]</th>\n",
       "      <td>5533</td>\n",
       "      <td>2051</td>\n",
       "      <td>7584</td>\n",
       "      <td>0.310302</td>\n",
       "      <td>0.412261</td>\n",
       "      <td>-0.284110</td>\n",
       "      <td>0.028968</td>\n",
       "    </tr>\n",
       "    <tr>\n",
       "      <th>(2.0, 4.0]</th>\n",
       "      <td>3510</td>\n",
       "      <td>917</td>\n",
       "      <td>4427</td>\n",
       "      <td>0.196848</td>\n",
       "      <td>0.184322</td>\n",
       "      <td>0.065751</td>\n",
       "      <td>0.000824</td>\n",
       "    </tr>\n",
       "    <tr>\n",
       "      <th>(4.0, 7.0]</th>\n",
       "      <td>4460</td>\n",
       "      <td>1023</td>\n",
       "      <td>5483</td>\n",
       "      <td>0.250126</td>\n",
       "      <td>0.205628</td>\n",
       "      <td>0.195896</td>\n",
       "      <td>0.008717</td>\n",
       "    </tr>\n",
       "    <tr>\n",
       "      <th>(7.0, 123.0]</th>\n",
       "      <td>3885</td>\n",
       "      <td>788</td>\n",
       "      <td>4673</td>\n",
       "      <td>0.217879</td>\n",
       "      <td>0.158392</td>\n",
       "      <td>0.318867</td>\n",
       "      <td>0.018968</td>\n",
       "    </tr>\n",
       "    <tr>\n",
       "      <th>Missing</th>\n",
       "      <td>443</td>\n",
       "      <td>196</td>\n",
       "      <td>639</td>\n",
       "      <td>0.024844</td>\n",
       "      <td>0.039397</td>\n",
       "      <td>-0.461058</td>\n",
       "      <td>0.006710</td>\n",
       "    </tr>\n",
       "    <tr>\n",
       "      <th>All</th>\n",
       "      <td>17831</td>\n",
       "      <td>4975</td>\n",
       "      <td>22806</td>\n",
       "      <td>1.000000</td>\n",
       "      <td>1.000000</td>\n",
       "      <td>0.000000</td>\n",
       "      <td>0.000000</td>\n",
       "    </tr>\n",
       "  </tbody>\n",
       "</table>\n",
       "</div>"
      ],
      "text/plain": [
       "loan_status                0     1    All    p_good     p_bad       WOE  \\\n",
       "person_emp_length_bin                                                     \n",
       "(-0.001, 2.0]           5533  2051   7584  0.310302  0.412261 -0.284110   \n",
       "(2.0, 4.0]              3510   917   4427  0.196848  0.184322  0.065751   \n",
       "(4.0, 7.0]              4460  1023   5483  0.250126  0.205628  0.195896   \n",
       "(7.0, 123.0]            3885   788   4673  0.217879  0.158392  0.318867   \n",
       "Missing                  443   196    639  0.024844  0.039397 -0.461058   \n",
       "All                    17831  4975  22806  1.000000  1.000000  0.000000   \n",
       "\n",
       "loan_status            contribution  \n",
       "person_emp_length_bin                \n",
       "(-0.001, 2.0]              0.028968  \n",
       "(2.0, 4.0]                 0.000824  \n",
       "(4.0, 7.0]                 0.008717  \n",
       "(7.0, 123.0]               0.018968  \n",
       "Missing                    0.006710  \n",
       "All                        0.000000  "
      ]
     },
     "execution_count": 69,
     "metadata": {},
     "output_type": "execute_result"
    }
   ],
   "source": [
    "# Display the result\n",
    "crosstab_emp_length"
   ]
  },
  {
   "cell_type": "code",
   "execution_count": 70,
   "metadata": {},
   "outputs": [
    {
     "data": {
      "text/plain": [
       "0.06418629798051112"
      ]
     },
     "execution_count": 70,
     "metadata": {},
     "output_type": "execute_result"
    }
   ],
   "source": [
    "# Check the IV\n",
    "IV_emp_length"
   ]
  },
  {
   "cell_type": "code",
   "execution_count": 71,
   "metadata": {},
   "outputs": [
    {
     "name": "stderr",
     "output_type": "stream",
     "text": [
      "C:\\Users\\Lenovo\\AppData\\Local\\Temp\\ipykernel_7512\\3143653413.py:5: FutureWarning: The frame.append method is deprecated and will be removed from pandas in a future version. Use pandas.concat instead.\n",
      "  IV_table = IV_table.append(add_IV_emp_length,\n"
     ]
    },
    {
     "data": {
      "text/html": [
       "<div>\n",
       "<style scoped>\n",
       "    .dataframe tbody tr th:only-of-type {\n",
       "        vertical-align: middle;\n",
       "    }\n",
       "\n",
       "    .dataframe tbody tr th {\n",
       "        vertical-align: top;\n",
       "    }\n",
       "\n",
       "    .dataframe thead th {\n",
       "        text-align: right;\n",
       "    }\n",
       "</style>\n",
       "<table border=\"1\" class=\"dataframe\">\n",
       "  <thead>\n",
       "    <tr style=\"text-align: right;\">\n",
       "      <th></th>\n",
       "      <th>Characteristic</th>\n",
       "      <th>Information Value</th>\n",
       "    </tr>\n",
       "  </thead>\n",
       "  <tbody>\n",
       "    <tr>\n",
       "      <th>0</th>\n",
       "      <td>person_age</td>\n",
       "      <td>0.005761</td>\n",
       "    </tr>\n",
       "    <tr>\n",
       "      <th>1</th>\n",
       "      <td>person_emp_length</td>\n",
       "      <td>0.064186</td>\n",
       "    </tr>\n",
       "  </tbody>\n",
       "</table>\n",
       "</div>"
      ],
      "text/plain": [
       "      Characteristic  Information Value\n",
       "0         person_age           0.005761\n",
       "1  person_emp_length           0.064186"
      ]
     },
     "execution_count": 71,
     "metadata": {},
     "output_type": "execute_result"
    }
   ],
   "source": [
    "# Summarize in IV Table\n",
    "add_IV_emp_length = {'Characteristic': 'person_emp_length',\n",
    "                     'Information Value' : IV_emp_length}\n",
    "\n",
    "IV_table = IV_table.append(add_IV_emp_length,\n",
    "                           ignore_index = True)\n",
    "\n",
    "IV_table"
   ]
  },
  {
   "cell_type": "markdown",
   "metadata": {},
   "source": [
    "#### Predictor 11: cb_person_default_on_file\n",
    "\n",
    "---"
   ]
  },
  {
   "cell_type": "code",
   "execution_count": 72,
   "metadata": {},
   "outputs": [
    {
     "data": {
      "text/html": [
       "<div>\n",
       "<style scoped>\n",
       "    .dataframe tbody tr th:only-of-type {\n",
       "        vertical-align: middle;\n",
       "    }\n",
       "\n",
       "    .dataframe tbody tr th {\n",
       "        vertical-align: top;\n",
       "    }\n",
       "\n",
       "    .dataframe thead th {\n",
       "        text-align: right;\n",
       "    }\n",
       "</style>\n",
       "<table border=\"1\" class=\"dataframe\">\n",
       "  <thead>\n",
       "    <tr style=\"text-align: right;\">\n",
       "      <th>loan_status</th>\n",
       "      <th>0</th>\n",
       "      <th>1</th>\n",
       "      <th>All</th>\n",
       "    </tr>\n",
       "    <tr>\n",
       "      <th>cb_person_default_on_file</th>\n",
       "      <th></th>\n",
       "      <th></th>\n",
       "      <th></th>\n",
       "    </tr>\n",
       "  </thead>\n",
       "  <tbody>\n",
       "    <tr>\n",
       "      <th>N</th>\n",
       "      <td>15302</td>\n",
       "      <td>3456</td>\n",
       "      <td>18758</td>\n",
       "    </tr>\n",
       "    <tr>\n",
       "      <th>Y</th>\n",
       "      <td>2529</td>\n",
       "      <td>1519</td>\n",
       "      <td>4048</td>\n",
       "    </tr>\n",
       "    <tr>\n",
       "      <th>All</th>\n",
       "      <td>17831</td>\n",
       "      <td>4975</td>\n",
       "      <td>22806</td>\n",
       "    </tr>\n",
       "  </tbody>\n",
       "</table>\n",
       "</div>"
      ],
      "text/plain": [
       "loan_status                    0     1    All\n",
       "cb_person_default_on_file                    \n",
       "N                          15302  3456  18758\n",
       "Y                           2529  1519   4048\n",
       "All                        17831  4975  22806"
      ]
     },
     "execution_count": 72,
     "metadata": {},
     "output_type": "execute_result"
    }
   ],
   "source": [
    "# Create crosstab of 'cb_person_default_on_file'\n",
    "crosstab_default_history = pd.crosstab(data_train['cb_person_default_on_file'],\n",
    "                                       data_train['loan_status'],\n",
    "                                       margins = True)\n",
    "crosstab_default_history"
   ]
  },
  {
   "cell_type": "code",
   "execution_count": 73,
   "metadata": {},
   "outputs": [],
   "source": [
    "# Calculate the WOE and IV\n",
    "crosstab_default_history, IV_default_history = WOE_IV(crosstab = crosstab_default_history)"
   ]
  },
  {
   "cell_type": "code",
   "execution_count": 74,
   "metadata": {},
   "outputs": [
    {
     "data": {
      "text/html": [
       "<div>\n",
       "<style scoped>\n",
       "    .dataframe tbody tr th:only-of-type {\n",
       "        vertical-align: middle;\n",
       "    }\n",
       "\n",
       "    .dataframe tbody tr th {\n",
       "        vertical-align: top;\n",
       "    }\n",
       "\n",
       "    .dataframe thead th {\n",
       "        text-align: right;\n",
       "    }\n",
       "</style>\n",
       "<table border=\"1\" class=\"dataframe\">\n",
       "  <thead>\n",
       "    <tr style=\"text-align: right;\">\n",
       "      <th>loan_status</th>\n",
       "      <th>0</th>\n",
       "      <th>1</th>\n",
       "      <th>All</th>\n",
       "      <th>p_good</th>\n",
       "      <th>p_bad</th>\n",
       "      <th>WOE</th>\n",
       "      <th>contribution</th>\n",
       "    </tr>\n",
       "    <tr>\n",
       "      <th>cb_person_default_on_file</th>\n",
       "      <th></th>\n",
       "      <th></th>\n",
       "      <th></th>\n",
       "      <th></th>\n",
       "      <th></th>\n",
       "      <th></th>\n",
       "      <th></th>\n",
       "    </tr>\n",
       "  </thead>\n",
       "  <tbody>\n",
       "    <tr>\n",
       "      <th>N</th>\n",
       "      <td>15302</td>\n",
       "      <td>3456</td>\n",
       "      <td>18758</td>\n",
       "      <td>0.858168</td>\n",
       "      <td>0.694673</td>\n",
       "      <td>0.211359</td>\n",
       "      <td>0.034556</td>\n",
       "    </tr>\n",
       "    <tr>\n",
       "      <th>Y</th>\n",
       "      <td>2529</td>\n",
       "      <td>1519</td>\n",
       "      <td>4048</td>\n",
       "      <td>0.141832</td>\n",
       "      <td>0.305327</td>\n",
       "      <td>-0.766741</td>\n",
       "      <td>0.125358</td>\n",
       "    </tr>\n",
       "    <tr>\n",
       "      <th>All</th>\n",
       "      <td>17831</td>\n",
       "      <td>4975</td>\n",
       "      <td>22806</td>\n",
       "      <td>1.000000</td>\n",
       "      <td>1.000000</td>\n",
       "      <td>0.000000</td>\n",
       "      <td>0.000000</td>\n",
       "    </tr>\n",
       "  </tbody>\n",
       "</table>\n",
       "</div>"
      ],
      "text/plain": [
       "loan_status                    0     1    All    p_good     p_bad       WOE  \\\n",
       "cb_person_default_on_file                                                     \n",
       "N                          15302  3456  18758  0.858168  0.694673  0.211359   \n",
       "Y                           2529  1519   4048  0.141832  0.305327 -0.766741   \n",
       "All                        17831  4975  22806  1.000000  1.000000  0.000000   \n",
       "\n",
       "loan_status                contribution  \n",
       "cb_person_default_on_file                \n",
       "N                              0.034556  \n",
       "Y                              0.125358  \n",
       "All                            0.000000  "
      ]
     },
     "execution_count": 74,
     "metadata": {},
     "output_type": "execute_result"
    }
   ],
   "source": [
    "# Display the result\n",
    "crosstab_default_history"
   ]
  },
  {
   "cell_type": "code",
   "execution_count": 75,
   "metadata": {},
   "outputs": [
    {
     "data": {
      "text/plain": [
       "0.15991444213621012"
      ]
     },
     "execution_count": 75,
     "metadata": {},
     "output_type": "execute_result"
    }
   ],
   "source": [
    "# Check the IV\n",
    "IV_default_history"
   ]
  },
  {
   "cell_type": "code",
   "execution_count": 76,
   "metadata": {},
   "outputs": [
    {
     "name": "stderr",
     "output_type": "stream",
     "text": [
      "C:\\Users\\Lenovo\\AppData\\Local\\Temp\\ipykernel_7512\\336915987.py:5: FutureWarning: The frame.append method is deprecated and will be removed from pandas in a future version. Use pandas.concat instead.\n",
      "  IV_table = IV_table.append(add_IV_default_history,\n"
     ]
    },
    {
     "data": {
      "text/html": [
       "<div>\n",
       "<style scoped>\n",
       "    .dataframe tbody tr th:only-of-type {\n",
       "        vertical-align: middle;\n",
       "    }\n",
       "\n",
       "    .dataframe tbody tr th {\n",
       "        vertical-align: top;\n",
       "    }\n",
       "\n",
       "    .dataframe thead th {\n",
       "        text-align: right;\n",
       "    }\n",
       "</style>\n",
       "<table border=\"1\" class=\"dataframe\">\n",
       "  <thead>\n",
       "    <tr style=\"text-align: right;\">\n",
       "      <th></th>\n",
       "      <th>Characteristic</th>\n",
       "      <th>Information Value</th>\n",
       "    </tr>\n",
       "  </thead>\n",
       "  <tbody>\n",
       "    <tr>\n",
       "      <th>0</th>\n",
       "      <td>person_age</td>\n",
       "      <td>0.005761</td>\n",
       "    </tr>\n",
       "    <tr>\n",
       "      <th>1</th>\n",
       "      <td>person_emp_length</td>\n",
       "      <td>0.064186</td>\n",
       "    </tr>\n",
       "    <tr>\n",
       "      <th>2</th>\n",
       "      <td>cb_person_default_on_file</td>\n",
       "      <td>0.159914</td>\n",
       "    </tr>\n",
       "  </tbody>\n",
       "</table>\n",
       "</div>"
      ],
      "text/plain": [
       "              Characteristic  Information Value\n",
       "0                 person_age           0.005761\n",
       "1          person_emp_length           0.064186\n",
       "2  cb_person_default_on_file           0.159914"
      ]
     },
     "execution_count": 76,
     "metadata": {},
     "output_type": "execute_result"
    }
   ],
   "source": [
    "# Summarize in IV Table\n",
    "add_IV_default_history = {'Characteristic': 'cb_person_default_on_file',\n",
    "                          'Information Value' : IV_default_history}\n",
    "\n",
    "IV_table = IV_table.append(add_IV_default_history,\n",
    "                           ignore_index = True)\n",
    "\n",
    "IV_table"
   ]
  },
  {
   "cell_type": "markdown",
   "metadata": {},
   "source": [
    "### **3. Check Logical Trend and Business Consideration**\n",
    "---\n",
    "\n",
    "In grouped scorecards, the attribute strengths must also be in a logical order, and make operational sense."
   ]
  },
  {
   "cell_type": "code",
   "execution_count": 77,
   "metadata": {},
   "outputs": [],
   "source": [
    "# Create a funtion to plot the WOE\n",
    "def plot_WOE(crosstab):\n",
    "  \"\"\"\n",
    "  Function to plot the WOE trend.\n",
    "\n",
    "  Parameters\n",
    "  ----------\n",
    "  crosstab : DataFrame\n",
    "    The cross tabulation of the characteristic.\n",
    "\n",
    "  \"\"\"\n",
    "  # Define the plot size\n",
    "  plt.figure(figsize = (8,4))\n",
    "\n",
    "  # Plot the WOE\n",
    "  sns.pointplot(x = crosstab.T.columns,\n",
    "                y = 'WOE',\n",
    "                data = crosstab,\n",
    "                markers = 'o',\n",
    "                linestyles = '--',\n",
    "                color = 'blue')\n",
    "\n",
    "  # Rotate the label of x-axis\n",
    "  plt.xticks(rotation = 20)\n"
   ]
  },
  {
   "cell_type": "code",
   "execution_count": 78,
   "metadata": {},
   "outputs": [
    {
     "data": {
      "image/png": "[encoded data removed]",
      "text/plain": [
       "<Figure size 800x400 with 1 Axes>"
      ]
     },
     "metadata": {},
     "output_type": "display_data"
    }
   ],
   "source": [
    "# Plot the WOE of  person_age\n",
    "plot_WOE(crosstab_age)"
   ]
  },
  {
   "cell_type": "markdown",
   "metadata": {},
   "source": [
    "- Younger debtors tend to be generally of a higher risk than older debtors.\n",
    "- Does this make sense in operational or business?"
   ]
  },
  {
   "cell_type": "code",
   "execution_count": 79,
   "metadata": {},
   "outputs": [
    {
     "data": {
      "image/png": "[encoded data removed]",
      "text/plain": [
       "<Figure size 800x400 with 1 Axes>"
      ]
     },
     "metadata": {},
     "output_type": "display_data"
    }
   ],
   "source": [
    "# Plot the WoE of person_emp_length\n",
    "plot_WOE(crosstab_emp_length)"
   ]
  },
  {
   "cell_type": "markdown",
   "metadata": {},
   "source": [
    "- Does this make sense in operational or business?\n",
    "- The WOE of the 'Missing' group is similar to that of an employment length of less than 2 years."
   ]
  },
  {
   "cell_type": "code",
   "execution_count": 80,
   "metadata": {},
   "outputs": [
    {
     "data": {
      "image/png": "[encoded data removed]",
      "text/plain": [
       "<Figure size 800x400 with 1 Axes>"
      ]
     },
     "metadata": {},
     "output_type": "display_data"
    }
   ],
   "source": [
    "# Plot the WoE of cb_person_default_on_file\n",
    "plot_WOE(crosstab_default_history)"
   ]
  },
  {
   "cell_type": "markdown",
   "metadata": {},
   "source": [
    "- The higher odds of default seem from those who have been in default before.\n",
    "- Does this make sense in operational or business?"
   ]
  },
  {
   "cell_type": "markdown",
   "metadata": {},
   "source": [
    "### **4. Test of Independence**\n",
    "---\n",
    "- For now, assume that the WOE for each attribute in all characteristics supports the logical trend and operational/business sense.\n",
    "- Then, we can check the strength of each characteristic as a predictor of credit performance by its Information Value (IV)."
   ]
  },
  {
   "cell_type": "code",
   "execution_count": 81,
   "metadata": {},
   "outputs": [
    {
     "data": {
      "text/html": [
       "<div>\n",
       "<style scoped>\n",
       "    .dataframe tbody tr th:only-of-type {\n",
       "        vertical-align: middle;\n",
       "    }\n",
       "\n",
       "    .dataframe tbody tr th {\n",
       "        vertical-align: top;\n",
       "    }\n",
       "\n",
       "    .dataframe thead th {\n",
       "        text-align: right;\n",
       "    }\n",
       "</style>\n",
       "<table border=\"1\" class=\"dataframe\">\n",
       "  <thead>\n",
       "    <tr style=\"text-align: right;\">\n",
       "      <th></th>\n",
       "      <th>Characteristic</th>\n",
       "      <th>Information Value</th>\n",
       "    </tr>\n",
       "  </thead>\n",
       "  <tbody>\n",
       "    <tr>\n",
       "      <th>0</th>\n",
       "      <td>person_age</td>\n",
       "      <td>0.005761</td>\n",
       "    </tr>\n",
       "    <tr>\n",
       "      <th>1</th>\n",
       "      <td>person_emp_length</td>\n",
       "      <td>0.064186</td>\n",
       "    </tr>\n",
       "    <tr>\n",
       "      <th>2</th>\n",
       "      <td>cb_person_default_on_file</td>\n",
       "      <td>0.159914</td>\n",
       "    </tr>\n",
       "  </tbody>\n",
       "</table>\n",
       "</div>"
      ],
      "text/plain": [
       "              Characteristic  Information Value\n",
       "0                 person_age           0.005761\n",
       "1          person_emp_length           0.064186\n",
       "2  cb_person_default_on_file           0.159914"
      ]
     },
     "execution_count": 81,
     "metadata": {},
     "output_type": "execute_result"
    }
   ],
   "source": [
    "# Display the IV Table\n",
    "IV_table"
   ]
  },
  {
   "cell_type": "markdown",
   "metadata": {},
   "source": [
    "The rule of thumb regarding IV:\n",
    "- Less than 0.02 : generally unpredictive\n",
    "- 0.02 to 0.1 : weak\n",
    "- 0.1 to 0.3 : medium\n",
    "- 0.3+ : strong"
   ]
  },
  {
   "cell_type": "code",
   "execution_count": 82,
   "metadata": {},
   "outputs": [
    {
     "data": {
      "text/html": [
       "<div>\n",
       "<style scoped>\n",
       "    .dataframe tbody tr th:only-of-type {\n",
       "        vertical-align: middle;\n",
       "    }\n",
       "\n",
       "    .dataframe tbody tr th {\n",
       "        vertical-align: top;\n",
       "    }\n",
       "\n",
       "    .dataframe thead th {\n",
       "        text-align: right;\n",
       "    }\n",
       "</style>\n",
       "<table border=\"1\" class=\"dataframe\">\n",
       "  <thead>\n",
       "    <tr style=\"text-align: right;\">\n",
       "      <th></th>\n",
       "      <th>Characteristic</th>\n",
       "      <th>Information Value</th>\n",
       "      <th>Strength</th>\n",
       "    </tr>\n",
       "  </thead>\n",
       "  <tbody>\n",
       "    <tr>\n",
       "      <th>0</th>\n",
       "      <td>person_age</td>\n",
       "      <td>0.005761</td>\n",
       "      <td>Unpredictive</td>\n",
       "    </tr>\n",
       "    <tr>\n",
       "      <th>1</th>\n",
       "      <td>person_emp_length</td>\n",
       "      <td>0.064186</td>\n",
       "      <td>Weak</td>\n",
       "    </tr>\n",
       "    <tr>\n",
       "      <th>2</th>\n",
       "      <td>cb_person_default_on_file</td>\n",
       "      <td>0.159914</td>\n",
       "      <td>Medium</td>\n",
       "    </tr>\n",
       "  </tbody>\n",
       "</table>\n",
       "</div>"
      ],
      "text/plain": [
       "              Characteristic  Information Value      Strength\n",
       "0                 person_age           0.005761  Unpredictive\n",
       "1          person_emp_length           0.064186          Weak\n",
       "2  cb_person_default_on_file           0.159914        Medium"
      ]
     },
     "execution_count": 82,
     "metadata": {},
     "output_type": "execute_result"
    }
   ],
   "source": [
    "# Define the predictive power of each characteristic\n",
    "strength = []\n",
    "\n",
    "for iv in IV_table['Information Value']:\n",
    "  if iv < 0.02:\n",
    "    strength.append('Unpredictive')\n",
    "  elif iv >= 0.02 and iv < 0.1:\n",
    "    strength.append('Weak')\n",
    "  elif iv >= 0.1 and iv < 0.3:\n",
    "    strength.append('Medium')\n",
    "  else:\n",
    "    strength.append('Strong')\n",
    "\n",
    "IV_table = IV_table.assign(Strength = strength)\n",
    "IV_table"
   ]
  },
  {
   "cell_type": "markdown",
   "metadata": {},
   "source": [
    "The predictive power of characteristics varies from very weak to medium.\n",
    "\n",
    "Next, we check the dependency between each characteristic and the response `loan_status` before modeling."
   ]
  },
  {
   "cell_type": "code",
   "execution_count": 83,
   "metadata": {},
   "outputs": [
    {
     "name": "stdout",
     "output_type": "stream",
     "text": [
      "Default and person_age_bin is not independent with P-val=4.411132910264968e-05.\n"
     ]
    }
   ],
   "source": [
    "# Independence test for person_age_bin\n",
    "independence_test(data = data_train_binned,\n",
    "                  predictor_label = 'person_age_bin',\n",
    "                  alpha = 0.05)"
   ]
  },
  {
   "cell_type": "code",
   "execution_count": 84,
   "metadata": {},
   "outputs": [
    {
     "name": "stdout",
     "output_type": "stream",
     "text": [
      "Default and person_emp_length_bin is not independent with P-val=1.2335438683441032e-53.\n"
     ]
    }
   ],
   "source": [
    "# Independence test for person_emp_length_bin\n",
    "independence_test(data = data_train_binned,\n",
    "                  predictor_label = 'person_emp_length_bin',\n",
    "                  alpha = 0.05)"
   ]
  },
  {
   "cell_type": "code",
   "execution_count": 85,
   "metadata": {},
   "outputs": [
    {
     "name": "stdout",
     "output_type": "stream",
     "text": [
      "Default and cb_person_default_on_file is not independent with P-val=1.166741294176887e-156.\n"
     ]
    }
   ],
   "source": [
    "# Independence test for cb_person_default_on_file\n",
    "independence_test(data = data_train_binned,\n",
    "                  predictor_label = 'cb_person_default_on_file',\n",
    "                  alpha = 0.05)"
   ]
  },
  {
   "cell_type": "markdown",
   "metadata": {},
   "source": [
    "All characteristics are not independent of the response variable."
   ]
  },
  {
   "cell_type": "markdown",
   "metadata": {},
   "source": []
  }
 ],
 "metadata": {
  "kernelspec": {
   "display_name": "base",
   "language": "python",
   "name": "python3"
  },
  "language_info": {
   "codemirror_mode": {
    "name": "ipython",
    "version": 3
   },
   "file_extension": ".py",
   "mimetype": "text/x-python",
   "name": "python",
   "nbconvert_exporter": "python",
   "pygments_lexer": "ipython3",
   "version": "3.9.13"
  },
  "orig_nbformat": 4
 },
 "nbformat": 4,
 "nbformat_minor": 2
}
